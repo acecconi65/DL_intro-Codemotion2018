{
 "cells": [
  {
   "cell_type": "markdown",
   "metadata": {
    "slideshow": {
     "slide_type": "slide"
    }
   },
   "source": [
    "<center>\n",
    "<h1>Codemotion Workshop: Deep Learning Fundamentals</h1>\n",
    "<br />\n",
    "<h2>Polo Didattico, 11th April 2018</h2>\n",
    "<img src=\"./Images/Codemotion_logo_small.png\" />\n",
    "</center>"
   ]
  },
  {
   "cell_type": "markdown",
   "metadata": {
    "slideshow": {
     "slide_type": "slide"
    }
   },
   "source": [
    "<p>A notebook is a collection of text and code snippets, which can be executed in real-time against a Python engine (the kernel).</p>\n",
    "\n",
    "To start this notebook (from the Anaconda Prompt):\n",
    "<pre>\n",
    "jupyter notebook\n",
    "</pre>\n",
    "<p>Check that \"Python 3\" appears in the top right angle of the notebook, and navigate to the current location of the notebook. There are many keyboard shortcuts, three essential ones are:</p>\n",
    "<ol>\n",
    "<li><strong>Enter</strong>: edit cell.</li>\n",
    "<li><strong>Ctrl+Enter</strong>: execute cell.</li>\n",
    "<li><strong>Shift+Enter</strong>: execute cell and move to the next one.</li>\n",
    "</ol>"
   ]
  },
  {
   "cell_type": "markdown",
   "metadata": {
    "slideshow": {
     "slide_type": "slide"
    }
   },
   "source": [
    "## About me\n",
    "\n",
    "<ul>\n",
    "<li> Ph.D. in machine learning (Sapienza, 2016).</li>\n",
    "<li> <strong>Post-doc fellow</strong> in Sapienza, <strong>research fellow</strong> in Stirling University (UK), previously <strong>lecturer</strong> at Perugia University.</li>\n",
    "<li> Co-organizer of the <strong>Rome Data Science and Machine Learning Meetup</strong>.</li>\n",
    "<li> Co-founder of the <strong>Italian Association for Machine Learning</strong>.</li>\n",
    "<li> <strong>Google Developer Expert</strong> for Machine Learning.</li>\n",
    "</ul>"
   ]
  },
  {
   "cell_type": "markdown",
   "metadata": {
    "slideshow": {
     "slide_type": "slide"
    }
   },
   "source": [
    "# About this workshop"
   ]
  },
  {
   "cell_type": "markdown",
   "metadata": {
    "slideshow": {
     "slide_type": "slide"
    }
   },
   "source": [
    "## Machine learning vs. classical programming\n",
    "<center><img src=\"./Images/Labirinth.png\" /></center>\n",
    "[Two big challenges in machine learning (Léon Bottou)](http://icml.cc/2015/invited/LeonBottouICML2015.pdf)"
   ]
  },
  {
   "cell_type": "markdown",
   "metadata": {
    "slideshow": {
     "slide_type": "slide"
    }
   },
   "source": [
    "## When is machine learning useful?\n",
    "\n",
    "<ul>\n",
    "<li><strong>Navigating</strong> the labirinth and finding a solution to it is easy for a programmer, because the task is extremely well defined.</li>\n",
    "<li><strong>Recognizing the mouse and cheese</strong> in the images is instead extremely complex, because the problem is very hard to formulate, and there are countless possible sources of variation in the image.</li>\n",
    "</ul>\n",
    "\n",
    "<p>One alternative to the second problem is an algorithm capable of <em>learning</em> to recognize a mouse from hundreds/thousands of images of mice.</p>"
   ]
  },
  {
   "cell_type": "markdown",
   "metadata": {
    "slideshow": {
     "slide_type": "slide"
    }
   },
   "source": [
    "<p>Machine learning is about extracting <em>useful</em> knowledge from data (from which the classical definition, \"<em>learn without being explicitly programmed</em>\"). Many synonims in practice:</p>\n",
    "<ul>\n",
    "<li><strong>Pattern recognition</strong> (historical focus on engineering)</li>\n",
    "<li><strong>Data mining</strong> (more focus on exploration of data)</li>\n",
    "<li><strong>Predictive analytics</strong> (focus on predictive modeling)</li>\n",
    "<li><strong>Knowledge discovery</strong> (common in the databases world)</li>\n",
    "<li><strong>Inferential statistics</strong> (from people coming from statistics)</li>\n",
    "</ul>"
   ]
  },
  {
   "cell_type": "markdown",
   "metadata": {
    "slideshow": {
     "slide_type": "slide"
    }
   },
   "source": [
    "## Some basic problems in ML\n",
    "\n",
    "<br />\n",
    "<div style=\"background-color:#ADDFFF; padding:0.5em;\">\n",
    "<h3>Supervised learning</h3>\n",
    "<ul>\n",
    "<li><strong>Classification</strong>: label an object starting from a set of examples.</li>\n",
    "<li><strong>Regression</strong>: assign a real value to an object starting from a set of examples.</li>\n",
    "</ul>\n",
    "</div>\n",
    "<br />\n",
    "<div style=\"background-color:#BFEE90; padding:0.5em;\">\n",
    "<h3>Unsupervised learning</h3>\n",
    "<ul>\n",
    "<li><strong>Clustering</strong>: partition your data in meaningful groups.</li>\n",
    "<li><strong>Dimensionality reduction / visualization</strong>.\n",
    "</ul>\n",
    "</div>"
   ]
  },
  {
   "cell_type": "markdown",
   "metadata": {
    "slideshow": {
     "slide_type": "slide"
    }
   },
   "source": [
    "### Machine learning vs. deep learning\n",
    "<ul>\n",
    "<li>\"Classical\" machine learning does not scale to very large / complex dataset, unless a very good preprocessing is done.</li>\n",
    "<li><strong>Deep learning</strong> is a subset of ML models that can work on high dimensional data (images, text, ...).</li>\n",
    "</ul>"
   ]
  },
  {
   "cell_type": "markdown",
   "metadata": {
    "slideshow": {
     "slide_type": "slide"
    }
   },
   "source": [
    "## What tool should I use?\n",
    "https://www.kaggle.com/surveys/2017"
   ]
  },
  {
   "cell_type": "markdown",
   "metadata": {
    "slideshow": {
     "slide_type": "slide"
    }
   },
   "source": [
    "## Why Python for data science?\n",
    "<ul>\n",
    "<li><strong>Strong core libraries</strong> for numerical manipulation.</li>\n",
    "<li>Huge <strong>active community</strong> surrounding an ecosystem of additional libraries.</li>\n",
    "<li><strong>General-purpose</strong> language, with different programming styles.</li>\n",
    "<li>Simple to learn, interactive, quick for prototyping.</li>\n",
    "</ul>"
   ]
  },
  {
   "cell_type": "markdown",
   "metadata": {
    "slideshow": {
     "slide_type": "slide"
    }
   },
   "source": [
    "<center><img src=\"Images/python_ecosystem.png\" /></center>"
   ]
  },
  {
   "cell_type": "markdown",
   "metadata": {
    "slideshow": {
     "slide_type": "slide"
    }
   },
   "source": [
    "### Our (main) objectives today:\n",
    "\n",
    "<ol>\n",
    "<li>Practical understanding of the Python ecosystem of data science libraries.</li>\n",
    "<li>Implement an entire supervised learning workflow, with an understanding of all its steps.</li>\n",
    "<li>Differences between standard machine learning and deep learning.</li>\n",
    "<li>Implement a new workflow using Google's TensorFlow.</li>\n",
    "</ol>"
   ]
  },
  {
   "cell_type": "markdown",
   "metadata": {
    "slideshow": {
     "slide_type": "slide"
    }
   },
   "source": [
    "# Basic Python concepts"
   ]
  },
  {
   "cell_type": "markdown",
   "metadata": {
    "slideshow": {
     "slide_type": "slide"
    }
   },
   "source": [
    "<p>Relased by Guido van Rossum in 1991, among its basic characteristics we can cite:</p>\n",
    "<ol>\n",
    "<li>Interpreted language.</li>\n",
    "<li>Indentation instead of brackets.</li>\n",
    "<li>Strong focus on readability.</li>\n",
    "<li>Huge availability of libraries.</li>\n",
    "</ol>\n",
    "<p>Its core principles are expressed in a brief text called <a href=\"http://docs.python-guide.org/en/latest/writing/style/#zen-of-python\">The Zen of Python</a>.</p>"
   ]
  },
  {
   "cell_type": "code",
   "execution_count": 1,
   "metadata": {
    "slideshow": {
     "slide_type": "slide"
    }
   },
   "outputs": [
    {
     "name": "stdout",
     "output_type": "stream",
     "text": [
      "The Zen of Python, by Tim Peters\n",
      "\n",
      "Beautiful is better than ugly.\n",
      "Explicit is better than implicit.\n",
      "Simple is better than complex.\n",
      "Complex is better than complicated.\n",
      "Flat is better than nested.\n",
      "Sparse is better than dense.\n",
      "Readability counts.\n",
      "Special cases aren't special enough to break the rules.\n",
      "Although practicality beats purity.\n",
      "Errors should never pass silently.\n",
      "Unless explicitly silenced.\n",
      "In the face of ambiguity, refuse the temptation to guess.\n",
      "There should be one-- and preferably only one --obvious way to do it.\n",
      "Although that way may not be obvious at first unless you're Dutch.\n",
      "Now is better than never.\n",
      "Although never is often better than *right* now.\n",
      "If the implementation is hard to explain, it's a bad idea.\n",
      "If the implementation is easy to explain, it may be a good idea.\n",
      "Namespaces are one honking great idea -- let's do more of those!\n"
     ]
    }
   ],
   "source": [
    "# Simple import call (prints The Zen of Python on first use)\n",
    "import this"
   ]
  },
  {
   "cell_type": "markdown",
   "metadata": {
    "slideshow": {
     "slide_type": "slide"
    }
   },
   "source": [
    "<p>Python has many data structures pre-implemented, such as dictionaries:</p>"
   ]
  },
  {
   "cell_type": "code",
   "execution_count": 3,
   "metadata": {
    "collapsed": true
   },
   "outputs": [],
   "source": [
    "# Adapted from https://wiki.python.org/moin/SimplePrograms\n",
    "\n",
    "# Define a dictionary (basic Python object)\n",
    "activities = {8: 'Sleeping',\n",
    "              9: 'Commuting',\n",
    "              17: 'Working',\n",
    "              20: 'Eating',\n",
    "              22: 'Resting' }"
   ]
  },
  {
   "cell_type": "markdown",
   "metadata": {
    "slideshow": {
     "slide_type": "slide"
    }
   },
   "source": [
    "A simple example of for-loop and if-clause in Python:"
   ]
  },
  {
   "cell_type": "code",
   "execution_count": 4,
   "metadata": {},
   "outputs": [
    {
     "name": "stdout",
     "output_type": "stream",
     "text": [
      "Working\n"
     ]
    }
   ],
   "source": [
    "# For-loop and if-clause (note the indentation)\n",
    "from time import localtime\n",
    "for activity_time in sorted(activities.keys()):\n",
    "    if localtime().tm_hour < activity_time:\n",
    "        print(activities[activity_time])\n",
    "        break\n",
    "\n",
    "else: # Executed if the for loop completes without break\n",
    "    print('Unknown, AFK or sleeping!')"
   ]
  },
  {
   "cell_type": "markdown",
   "metadata": {
    "slideshow": {
     "slide_type": "slide"
    }
   },
   "source": [
    "A few more advanced concepts:"
   ]
  },
  {
   "cell_type": "code",
   "execution_count": 4,
   "metadata": {},
   "outputs": [
    {
     "name": "stdout",
     "output_type": "stream",
     "text": [
      "1 times 2 is 2\n",
      "2 times 2 is 4\n",
      "3 times 2 is 6\n"
     ]
    }
   ],
   "source": [
    "# Lambda expressions can define functions on-the-fly\n",
    "mult_by_two = lambda x: x*2\n",
    "\n",
    "# List comprehension allows to process all elements in a list\n",
    "original_list = [1, 2, 3]\n",
    "new_list = [mult_by_two(i) for i in [1, 2, 3]]\n",
    "\n",
    "# Zip to iterate over multiple lists\n",
    "for (l0, l1) in zip(original_list, new_list):\n",
    "    print('{0} times 2 is {1}'.format(l0, l1))"
   ]
  },
  {
   "cell_type": "markdown",
   "metadata": {
    "slideshow": {
     "slide_type": "slide"
    }
   },
   "source": [
    "<img src=\"./Images/IPy_header.png\" />\n",
    "<p><strong>IPython</strong> is an enhanced version of the standard Python console:</p>\n",
    "<ol>\n",
    "<li>Comprehensive object introspection.</li>\n",
    "<li>Extensible system of ‘magic’ commands, providing functionalities meant to be used interactively.</li>\n",
    "<li>Easily embeddable in other Python programs and GUIs.</li>\n",
    "<li>Integrated with debugger.</li>\n",
    "</ol>"
   ]
  },
  {
   "cell_type": "code",
   "execution_count": 5,
   "metadata": {
    "collapsed": true,
    "slideshow": {
     "slide_type": "slide"
    }
   },
   "outputs": [],
   "source": [
    "# List of available magic commands\n",
    "%magic"
   ]
  },
  {
   "cell_type": "markdown",
   "metadata": {
    "slideshow": {
     "slide_type": "slide"
    }
   },
   "source": [
    "<p><strong>Anaconda</strong> is a simple full-stack solution to install all that is needed in order to use Python for scientific computing. Anaconda provides a custom way to install new Python packages:</p>\n",
    "<pre>\n",
    "conda install name-of-the-package\n",
    "</pre>\n",
    "<p>Or alternatively using the pip package (pre-installed with Anaconda):</p>\n",
    "<pre>\n",
    "pip install name-of-the-package\n",
    "</pre>\n",
    "<p>Managing new environments with Anaconda:</p>\n",
    "<pre>\n",
    "conda create --name py27 python=2.7\n",
    "conda activate py27\n",
    "</pre>"
   ]
  },
  {
   "cell_type": "markdown",
   "metadata": {
    "slideshow": {
     "slide_type": "slide"
    }
   },
   "source": [
    "<center><img src=\"./Images/Jupyter_logo.png\" />\n",
    "<a href=\"https://github.com/ipython/ipython/wiki/A-gallery-of-interesting-IPython-Notebooks\">A gallery of interesting IPython Notebooks</a></center>"
   ]
  },
  {
   "cell_type": "markdown",
   "metadata": {
    "slideshow": {
     "slide_type": "slide"
    }
   },
   "source": [
    "<center><img src=\"./Images/Spyder-windows-screenshot.png\" /></center>\n",
    "[Image Source](https://en.wikipedia.org/wiki/Spyder_(software))"
   ]
  }
 ],
 "metadata": {
  "celltoolbar": "Slideshow",
  "kernelspec": {
   "display_name": "Python 3",
   "language": "python",
   "name": "python3"
  },
  "language_info": {
   "codemirror_mode": {
    "name": "ipython",
    "version": 3
   },
   "file_extension": ".py",
   "mimetype": "text/x-python",
   "name": "python",
   "nbconvert_exporter": "python",
   "pygments_lexer": "ipython3",
   "version": "3.6.4"
  }
 },
 "nbformat": 4,
 "nbformat_minor": 2
}
