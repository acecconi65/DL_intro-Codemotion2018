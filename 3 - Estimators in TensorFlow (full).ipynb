{
 "cells": [
  {
   "cell_type": "markdown",
   "metadata": {
    "slideshow": {
     "slide_type": "slide"
    }
   },
   "source": [
    "# Deep Learning Fundamentals<br />\n",
    "<h2><p style=\"color:darkred\">3 - Estimators in TensorFlow</p></h2>"
   ]
  },
  {
   "cell_type": "markdown",
   "metadata": {
    "slideshow": {
     "slide_type": "slide"
    }
   },
   "source": [
    "## TensorFlow Programming Environment"
   ]
  },
  {
   "cell_type": "markdown",
   "metadata": {},
   "source": [
    "<center><img src=\"./Images/tensorflow_programming_environment_new.png\"  /></center>"
   ]
  },
  {
   "cell_type": "markdown",
   "metadata": {
    "slideshow": {
     "slide_type": "slide"
    }
   },
   "source": [
    "## Beyond TensorFlow\n",
    "<center><img src=\"./Images/machine-learning-next-1.png\"  /></center>"
   ]
  },
  {
   "cell_type": "markdown",
   "metadata": {
    "slideshow": {
     "slide_type": "slide"
    }
   },
   "source": [
    "## Load data"
   ]
  },
  {
   "cell_type": "markdown",
   "metadata": {
    "slideshow": {
     "slide_type": "slide"
    }
   },
   "source": [
    "Let us re-load the data!"
   ]
  },
  {
   "cell_type": "code",
   "execution_count": 1,
   "metadata": {},
   "outputs": [],
   "source": [
    "import scipy.io\n",
    "data = scipy.io.loadmat('./Data/credit_card_data.mat')\n",
    "X = data['X']\n",
    "y = data['y']\n",
    "\n",
    "# preprocessing: replacing missing values\n",
    "from sklearn import preprocessing\n",
    "inputer = preprocessing.Imputer(strategy=\"median\", verbose=2)\n",
    "X = inputer.fit_transform(X)\n",
    "\n",
    "# preprocessing: feature normalization\n",
    "import sklearn.preprocessing\n",
    "scaler = sklearn.preprocessing.MinMaxScaler()\n",
    "X = scaler.fit_transform(X)\n",
    "\n",
    "# model training: splitting dataset into training and test set\n",
    "from sklearn import model_selection\n",
    "(X_trn, X_tst, y_trn, y_tst) = model_selection.train_test_split(X, y, test_size=0.25, stratify=y)"
   ]
  },
  {
   "cell_type": "code",
   "execution_count": 2,
   "metadata": {
    "slideshow": {
     "slide_type": "slide"
    }
   },
   "outputs": [],
   "source": [
    "# Additional casting step\n",
    "import numpy as np\n",
    "y_trn = y_trn.astype(np.int32)\n",
    "y_tst = y_tst.astype(np.int32)"
   ]
  },
  {
   "cell_type": "markdown",
   "metadata": {
    "slideshow": {
     "slide_type": "slide"
    }
   },
   "source": [
    "## Training an estimator with TensorFlow"
   ]
  },
  {
   "cell_type": "markdown",
   "metadata": {
    "slideshow": {
     "slide_type": "slide"
    }
   },
   "source": [
    "### Handling the input pipeline"
   ]
  },
  {
   "cell_type": "code",
   "execution_count": 3,
   "metadata": {
    "slideshow": {
     "slide_type": "slide"
    }
   },
   "outputs": [],
   "source": [
    "import tensorflow as tf\n",
    "tf.reset_default_graph()"
   ]
  },
  {
   "cell_type": "markdown",
   "metadata": {
    "slideshow": {
     "slide_type": "slide"
    }
   },
   "source": [
    "<center><h2>TensorFlow Dataset</h2></center>\n",
    "\n",
    "<center><img src=\"./Images/dataset_classes.png\"  /></center>\n",
    "\n",
    "https://www.tensorflow.org/get_started/premade_estimators"
   ]
  },
  {
   "cell_type": "markdown",
   "metadata": {
    "slideshow": {
     "slide_type": "slide"
    }
   },
   "source": [
    "<center><h2>Feature columns</h2></center>\n",
    "\n",
    "<center><img src=\"./Images/inputs_to_model_bridge.jpg\"  /></center>\n",
    "\n",
    "https://www.tensorflow.org/get_started/feature_columns"
   ]
  },
  {
   "cell_type": "code",
   "execution_count": 4,
   "metadata": {
    "slideshow": {
     "slide_type": "slide"
    }
   },
   "outputs": [],
   "source": [
    "# Define the training input function\n",
    "def train_input_fcn(features, labels):\n",
    "    dataset = tf.data.Dataset.from_tensor_slices(({\"x\": features}, labels))\n",
    "    dataset = dataset.shuffle(1000).repeat().batch(32)\n",
    "    return dataset.make_one_shot_iterator().get_next()"
   ]
  },
  {
   "cell_type": "code",
   "execution_count": 5,
   "metadata": {
    "slideshow": {
     "slide_type": "slide"
    }
   },
   "outputs": [],
   "source": [
    "# Define feature columns\n",
    "feature_columns = [tf.feature_column.numeric_column(key=\"x\", shape=X_trn.shape[1])]"
   ]
  },
  {
   "cell_type": "markdown",
   "metadata": {
    "slideshow": {
     "slide_type": "slide"
    }
   },
   "source": [
    "### Train the classifier"
   ]
  },
  {
   "cell_type": "code",
   "execution_count": 6,
   "metadata": {
    "slideshow": {
     "slide_type": "slide"
    }
   },
   "outputs": [
    {
     "name": "stdout",
     "output_type": "stream",
     "text": [
      "INFO:tensorflow:Using default config.\n",
      "INFO:tensorflow:Using config: {'_model_dir': 'tmp', '_tf_random_seed': None, '_save_summary_steps': 100, '_save_checkpoints_steps': None, '_save_checkpoints_secs': 600, '_session_config': None, '_keep_checkpoint_max': 5, '_keep_checkpoint_every_n_hours': 10000, '_log_step_count_steps': 100, '_service': None, '_cluster_spec': <tensorflow.python.training.server_lib.ClusterSpec object at 0x1a23fd8ef0>, '_task_type': 'worker', '_task_id': 0, '_global_id_in_cluster': 0, '_master': '', '_evaluation_master': '', '_is_chief': True, '_num_ps_replicas': 0, '_num_worker_replicas': 1}\n"
     ]
    }
   ],
   "source": [
    "# Initialize classifier\n",
    "classifier = tf.estimator.DNNClassifier(feature_columns=feature_columns, n_classes=2, hidden_units=[10], model_dir='tmp')"
   ]
  },
  {
   "cell_type": "code",
   "execution_count": 12,
   "metadata": {
    "slideshow": {
     "slide_type": "slide"
    }
   },
   "outputs": [
    {
     "name": "stdout",
     "output_type": "stream",
     "text": [
      "INFO:tensorflow:Calling model_fn.\n",
      "INFO:tensorflow:Done calling model_fn.\n",
      "INFO:tensorflow:Create CheckpointSaverHook.\n",
      "INFO:tensorflow:Graph was finalized.\n",
      "INFO:tensorflow:Restoring parameters from tmp/model.ckpt-1000\n",
      "INFO:tensorflow:Running local_init_op.\n",
      "INFO:tensorflow:Done running local_init_op.\n",
      "INFO:tensorflow:Saving checkpoints for 1001 into tmp/model.ckpt.\n",
      "INFO:tensorflow:loss = 16.65686, step = 1001\n",
      "INFO:tensorflow:global_step/sec: 283.115\n",
      "INFO:tensorflow:loss = 13.629836, step = 1101 (0.353 sec)\n",
      "INFO:tensorflow:global_step/sec: 728.098\n",
      "INFO:tensorflow:loss = 10.856381, step = 1201 (0.137 sec)\n",
      "INFO:tensorflow:global_step/sec: 703.769\n",
      "INFO:tensorflow:loss = 10.916653, step = 1301 (0.142 sec)\n",
      "INFO:tensorflow:global_step/sec: 697.198\n",
      "INFO:tensorflow:loss = 16.148895, step = 1401 (0.143 sec)\n",
      "INFO:tensorflow:global_step/sec: 696.898\n",
      "INFO:tensorflow:loss = 15.39549, step = 1501 (0.143 sec)\n",
      "INFO:tensorflow:global_step/sec: 731.182\n",
      "INFO:tensorflow:loss = 12.93605, step = 1601 (0.137 sec)\n",
      "INFO:tensorflow:global_step/sec: 776.657\n",
      "INFO:tensorflow:loss = 12.744194, step = 1701 (0.129 sec)\n",
      "INFO:tensorflow:global_step/sec: 626.029\n",
      "INFO:tensorflow:loss = 12.675528, step = 1801 (0.160 sec)\n",
      "INFO:tensorflow:global_step/sec: 736.502\n",
      "INFO:tensorflow:loss = 16.578085, step = 1901 (0.135 sec)\n",
      "INFO:tensorflow:Saving checkpoints for 2000 into tmp/model.ckpt.\n",
      "INFO:tensorflow:Loss for final step: 12.509166.\n"
     ]
    },
    {
     "data": {
      "text/plain": [
       "<tensorflow.python.estimator.canned.dnn.DNNClassifier at 0x1a23fe21d0>"
      ]
     },
     "execution_count": 12,
     "metadata": {},
     "output_type": "execute_result"
    }
   ],
   "source": [
    "# Train classifier\n",
    "classifier.train(input_fn=lambda:train_input_fcn(X_trn, y_trn.astype(np.int32)), steps=1000)"
   ]
  },
  {
   "cell_type": "markdown",
   "metadata": {
    "slideshow": {
     "slide_type": "slide"
    }
   },
   "source": [
    "**Additional**: launch the TensorBoard from the console with \"tensorboard --logdir=tmp\"."
   ]
  },
  {
   "cell_type": "markdown",
   "metadata": {
    "slideshow": {
     "slide_type": "slide"
    }
   },
   "source": [
    "### Evaluate the model"
   ]
  },
  {
   "cell_type": "code",
   "execution_count": 8,
   "metadata": {
    "slideshow": {
     "slide_type": "slide"
    }
   },
   "outputs": [],
   "source": [
    "# Define input function\n",
    "def eval_input_fcn(features, labels):\n",
    "    dataset = tf.data.Dataset.from_tensor_slices(({\"x\": features}, labels))\n",
    "    dataset = dataset.batch(32) # Note the absence of \"repeat\"\n",
    "    return dataset.make_one_shot_iterator().get_next()"
   ]
  },
  {
   "cell_type": "code",
   "execution_count": 9,
   "metadata": {
    "slideshow": {
     "slide_type": "slide"
    }
   },
   "outputs": [
    {
     "name": "stdout",
     "output_type": "stream",
     "text": [
      "INFO:tensorflow:Calling model_fn.\n",
      "INFO:tensorflow:Done calling model_fn.\n",
      "INFO:tensorflow:Starting evaluation at 2018-05-01-08:00:09\n",
      "INFO:tensorflow:Graph was finalized.\n",
      "INFO:tensorflow:Restoring parameters from tmp/model.ckpt-1000\n",
      "INFO:tensorflow:Running local_init_op.\n",
      "INFO:tensorflow:Done running local_init_op.\n",
      "INFO:tensorflow:Finished evaluation at 2018-05-01-08:00:11\n",
      "INFO:tensorflow:Saving dict for global step 1000: accuracy = 0.8124, accuracy_baseline = 0.7788, auc = 0.74362123, auc_precision_recall = 0.5211195, average_loss = 0.4523286, global_step = 1000, label/mean = 0.2212, loss = 14.436019, prediction/mean = 0.24366973\n",
      "{'accuracy': 0.8124, 'accuracy_baseline': 0.7788, 'auc': 0.74362123, 'auc_precision_recall': 0.5211195, 'average_loss': 0.4523286, 'label/mean': 0.2212, 'loss': 14.436019, 'prediction/mean': 0.24366973, 'global_step': 1000}\n"
     ]
    }
   ],
   "source": [
    "print(classifier.evaluate(input_fn=lambda:eval_input_fcn(X_tst, y_tst)))"
   ]
  },
  {
   "cell_type": "markdown",
   "metadata": {
    "slideshow": {
     "slide_type": "slide"
    }
   },
   "source": [
    "### Get a prediction"
   ]
  },
  {
   "cell_type": "code",
   "execution_count": 10,
   "metadata": {
    "slideshow": {
     "slide_type": "slide"
    }
   },
   "outputs": [],
   "source": [
    "# Define input function\n",
    "def predict_input_fcn(features):\n",
    "    dataset = tf.data.Dataset.from_tensor_slices(({\"x\": features}))\n",
    "    dataset = dataset.batch(32)\n",
    "    return dataset.make_one_shot_iterator().get_next()"
   ]
  },
  {
   "cell_type": "code",
   "execution_count": 11,
   "metadata": {
    "slideshow": {
     "slide_type": "slide"
    }
   },
   "outputs": [
    {
     "name": "stdout",
     "output_type": "stream",
     "text": [
      "INFO:tensorflow:Calling model_fn.\n",
      "INFO:tensorflow:Done calling model_fn.\n",
      "INFO:tensorflow:Graph was finalized.\n",
      "INFO:tensorflow:Restoring parameters from tmp/model.ckpt-1000\n",
      "INFO:tensorflow:Running local_init_op.\n",
      "INFO:tensorflow:Done running local_init_op.\n",
      "[{'logits': array([-1.3834748], dtype=float32), 'logistic': array([0.2004515], dtype=float32), 'probabilities': array([0.7995485 , 0.20045151], dtype=float32), 'class_ids': array([0]), 'classes': array([b'0'], dtype=object)}, {'logits': array([-2.1329706], dtype=float32), 'logistic': array([0.10593331], dtype=float32), 'probabilities': array([0.89406663, 0.10593331], dtype=float32), 'class_ids': array([0]), 'classes': array([b'0'], dtype=object)}, {'logits': array([-0.69265795], dtype=float32), 'logistic': array([0.33344206], dtype=float32), 'probabilities': array([0.66655797, 0.33344206], dtype=float32), 'class_ids': array([0]), 'classes': array([b'0'], dtype=object)}, {'logits': array([-1.6186552], dtype=float32), 'logistic': array([0.16539042], dtype=float32), 'probabilities': array([0.83460957, 0.16539042], dtype=float32), 'class_ids': array([0]), 'classes': array([b'0'], dtype=object)}, {'logits': array([0.45049474], dtype=float32), 'logistic': array([0.6107569], dtype=float32), 'probabilities': array([0.38924316, 0.6107569 ], dtype=float32), 'class_ids': array([1]), 'classes': array([b'1'], dtype=object)}, {'logits': array([-1.8574862], dtype=float32), 'logistic': array([0.13499632], dtype=float32), 'probabilities': array([0.86500365, 0.13499632], dtype=float32), 'class_ids': array([0]), 'classes': array([b'0'], dtype=object)}, {'logits': array([-1.5668235], dtype=float32), 'logistic': array([0.17266971], dtype=float32), 'probabilities': array([0.8273303, 0.1726697], dtype=float32), 'class_ids': array([0]), 'classes': array([b'0'], dtype=object)}, {'logits': array([-1.6831809], dtype=float32), 'logistic': array([0.15667473], dtype=float32), 'probabilities': array([0.84332526, 0.15667471], dtype=float32), 'class_ids': array([0]), 'classes': array([b'0'], dtype=object)}, {'logits': array([3.864797], dtype=float32), 'logistic': array([0.97946346], dtype=float32), 'probabilities': array([0.02053658, 0.97946346], dtype=float32), 'class_ids': array([1]), 'classes': array([b'1'], dtype=object)}, {'logits': array([-2.0055482], dtype=float32), 'logistic': array([0.11862163], dtype=float32), 'probabilities': array([0.8813784 , 0.11862162], dtype=float32), 'class_ids': array([0]), 'classes': array([b'0'], dtype=object)}]\n"
     ]
    }
   ],
   "source": [
    "print(list(classifier.predict(input_fn=lambda:predict_input_fcn(X_tst[0:10]))))"
   ]
  },
  {
   "cell_type": "code",
   "execution_count": null,
   "metadata": {},
   "outputs": [],
   "source": []
  }
 ],
 "metadata": {
  "celltoolbar": "Slideshow",
  "kernelspec": {
   "display_name": "Python 3",
   "language": "python",
   "name": "python3"
  },
  "language_info": {
   "codemirror_mode": {
    "name": "ipython",
    "version": 3
   },
   "file_extension": ".py",
   "mimetype": "text/x-python",
   "name": "python",
   "nbconvert_exporter": "python",
   "pygments_lexer": "ipython3",
   "version": "3.6.5"
  }
 },
 "nbformat": 4,
 "nbformat_minor": 2
}
