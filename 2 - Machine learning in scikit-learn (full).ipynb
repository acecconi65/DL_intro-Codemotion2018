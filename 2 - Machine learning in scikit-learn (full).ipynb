{
 "cells": [
  {
   "cell_type": "markdown",
   "metadata": {
    "slideshow": {
     "slide_type": "slide"
    }
   },
   "source": [
    "# Deep Learning Fundamentals<br />\n",
    "<h2><p style=\"color:darkred\">2 - Machine learning with scikit-learn</p></h2>"
   ]
  },
  {
   "cell_type": "markdown",
   "metadata": {
    "slideshow": {
     "slide_type": "slide"
    }
   },
   "source": [
    "### Code repeatability\n",
    "In scientific computing, controlling the state of the PRNG is essential to obtain code which is easily <em>repeatable</em>, and hence easy to debug and/or reproduce."
   ]
  },
  {
   "cell_type": "code",
   "execution_count": 1,
   "metadata": {},
   "outputs": [
    {
     "name": "stdout",
     "output_type": "stream",
     "text": [
      "0.22199317108973948\n"
     ]
    }
   ],
   "source": [
    "# The following snippet can be used to initialize the PRNG \n",
    "# with a specific seed:\n",
    "import numpy as np\n",
    "import random\n",
    "random.seed(5)\n",
    "np.random.seed(5)\n",
    "print(np.random.rand())"
   ]
  },
  {
   "cell_type": "markdown",
   "metadata": {
    "slideshow": {
     "slide_type": "slide"
    }
   },
   "source": [
    "<center><img src=\"Images/supervised-workflow-machine-learning.png\">\n",
    "<a href=\"http://blog.bidmotion.com/2016/06/23/good-morning-have-you-used-machine-learning/\">Image source</a></center>"
   ]
  },
  {
   "cell_type": "markdown",
   "metadata": {
    "slideshow": {
     "slide_type": "slide"
    }
   },
   "source": [
    "<p>Let us download the sample data: <a href=\"https://archive.ics.uci.edu/ml/datasets/default+of+credit+card+clients\">\n",
    "Default of credit card clients Data Set</a></p>\n",
    "<br />\n",
    "<div class=\"alert alert-success\">\n",
    "<p>Take a look at the <a href=\"https://www.kaggle.com/uciml/default-of-credit-card-clients-dataset\">Kaggle challenge</a> to find some further ideas on the dataset!</p>\n",
    "</div>"
   ]
  },
  {
   "cell_type": "markdown",
   "metadata": {
    "slideshow": {
     "slide_type": "slide"
    }
   },
   "source": [
    "We want to understand the default probability of a client (Yes = 1, No = 0), given:\n",
    "\n",
    "<ol>\n",
    "<li><strong>X1</strong>: Amount of the given credit (NT dollars): it includes both the individual consumer credit and his/her family (supplementary) credit.</li>\n",
    "<li><strong>X2</strong>: Gender (1 = male; 2 = female). \n",
    "<li><strong>X3</strong>: Education (1 = graduate school; 2 = university; 3 = high school; 4 = others, 5 = unknown, 6 = unknown).</li>\n",
    "<li><strong>X4</strong>: Marital status (1 = married; 2 = single; 3 = others).</li>\n",
    "<li><strong>X5</strong>: Age (year).</li>\n",
    "<li><strong>X6 - X11</strong>: History of past payment (X6 = repayment status in September, 2005; X7 = the repayment status in August, 2005, ...) The measurement scale for the repayment status is: -1 = pay duly; 1 = payment delay for one month; 2 = payment delay for two months; . . .; 8 = payment delay for eight months; 9 = payment delay for nine months and above. </li>\n",
    "<li><strong>X12-X17</strong>: Amount of bill statement (NT dollar). X12 = amount of bill statement in September, 2005; X13 = amount of bill statement in August, 2005; . . .; X17 = amount of bill statement in April, 2005. </li>\n",
    "<li><strong>X18-X23</strong>: Amount of previous payment (NT dollar). X18 = amount paid in September, 2005; X19 = amount paid in August, 2005; . . .;X23 = amount paid in April, 2005. </li>\n",
    "</ol>"
   ]
  },
  {
   "cell_type": "markdown",
   "metadata": {
    "slideshow": {
     "slide_type": "slide"
    }
   },
   "source": [
    "## Step 1 - Data loading and preprocessing"
   ]
  },
  {
   "cell_type": "markdown",
   "metadata": {
    "slideshow": {
     "slide_type": "slide"
    }
   },
   "source": [
    "Let us start by loading the data:"
   ]
  },
  {
   "cell_type": "code",
   "execution_count": 4,
   "metadata": {},
   "outputs": [
    {
     "name": "stdout",
     "output_type": "stream",
     "text": [
      "Variable   Type       Data/Info\n",
      "-------------------------------\n",
      "X          ndarray    30000x23: 690000 elems, type `float64`, 5520000 bytes (5.2642822265625 Mb)\n",
      "data       dict       n=5\n",
      "np         module     <module 'numpy' from 'C:\\<...>ges\\\\numpy\\\\__init__.py'>\n",
      "random     module     <module 'random' from 'C:<...>aconda3\\\\lib\\\\random.py'>\n",
      "scipy      module     <module 'scipy' from 'C:\\<...>ges\\\\scipy\\\\__init__.py'>\n",
      "y          ndarray    30000x1: 30000 elems, type `float64`, 240000 bytes (234.375 kb)\n"
     ]
    }
   ],
   "source": [
    "import scipy.io\n",
    "data = scipy.io.loadmat('./Data/credit_card_data.mat')\n",
    "X = data['X']\n",
    "y = data['y']\n",
    "%whos"
   ]
  },
  {
   "cell_type": "code",
   "execution_count": 5,
   "metadata": {
    "collapsed": true,
    "slideshow": {
     "slide_type": "slide"
    }
   },
   "outputs": [],
   "source": [
    "# Play with X / y to understand the content!"
   ]
  },
  {
   "cell_type": "markdown",
   "metadata": {
    "slideshow": {
     "slide_type": "slide"
    }
   },
   "source": [
    "We can describe the dataset using the <code>describe</code> function from <code>scipy.stats</code> and Pandas:"
   ]
  },
  {
   "cell_type": "code",
   "execution_count": 6,
   "metadata": {},
   "outputs": [
    {
     "data": {
      "text/html": [
       "<div>\n",
       "<style>\n",
       "    .dataframe thead tr:only-child th {\n",
       "        text-align: right;\n",
       "    }\n",
       "\n",
       "    .dataframe thead th {\n",
       "        text-align: left;\n",
       "    }\n",
       "\n",
       "    .dataframe tbody tr th {\n",
       "        vertical-align: top;\n",
       "    }\n",
       "</style>\n",
       "<table border=\"1\" class=\"dataframe\">\n",
       "  <thead>\n",
       "    <tr style=\"text-align: right;\">\n",
       "      <th></th>\n",
       "      <th>0</th>\n",
       "      <th>1</th>\n",
       "      <th>2</th>\n",
       "      <th>3</th>\n",
       "      <th>4</th>\n",
       "      <th>5</th>\n",
       "      <th>6</th>\n",
       "      <th>7</th>\n",
       "      <th>8</th>\n",
       "      <th>9</th>\n",
       "      <th>...</th>\n",
       "      <th>13</th>\n",
       "      <th>14</th>\n",
       "      <th>15</th>\n",
       "      <th>16</th>\n",
       "      <th>17</th>\n",
       "      <th>18</th>\n",
       "      <th>19</th>\n",
       "      <th>20</th>\n",
       "      <th>21</th>\n",
       "      <th>22</th>\n",
       "    </tr>\n",
       "  </thead>\n",
       "  <tbody>\n",
       "    <tr>\n",
       "      <th>count</th>\n",
       "      <td>30000.000000</td>\n",
       "      <td>30000.000000</td>\n",
       "      <td>30000.000000</td>\n",
       "      <td>30000.000000</td>\n",
       "      <td>30000.000000</td>\n",
       "      <td>30000.000000</td>\n",
       "      <td>30000.000000</td>\n",
       "      <td>30000.000000</td>\n",
       "      <td>30000.000000</td>\n",
       "      <td>30000.000000</td>\n",
       "      <td>...</td>\n",
       "      <td>3.000000e+04</td>\n",
       "      <td>30000.000000</td>\n",
       "      <td>30000.000000</td>\n",
       "      <td>30000.000000</td>\n",
       "      <td>30000.000000</td>\n",
       "      <td>3.000000e+04</td>\n",
       "      <td>30000.00000</td>\n",
       "      <td>30000.000000</td>\n",
       "      <td>30000.000000</td>\n",
       "      <td>30000.000000</td>\n",
       "    </tr>\n",
       "    <tr>\n",
       "      <th>mean</th>\n",
       "      <td>167484.322667</td>\n",
       "      <td>1.603733</td>\n",
       "      <td>1.853133</td>\n",
       "      <td>1.551867</td>\n",
       "      <td>35.485500</td>\n",
       "      <td>-0.016700</td>\n",
       "      <td>-0.133767</td>\n",
       "      <td>-0.166200</td>\n",
       "      <td>-0.220667</td>\n",
       "      <td>-0.266200</td>\n",
       "      <td>...</td>\n",
       "      <td>4.701315e+04</td>\n",
       "      <td>43262.948967</td>\n",
       "      <td>40311.400967</td>\n",
       "      <td>38871.760400</td>\n",
       "      <td>5663.580500</td>\n",
       "      <td>5.921163e+03</td>\n",
       "      <td>5225.68150</td>\n",
       "      <td>4826.076867</td>\n",
       "      <td>4799.387633</td>\n",
       "      <td>5215.502567</td>\n",
       "    </tr>\n",
       "    <tr>\n",
       "      <th>std</th>\n",
       "      <td>129747.661567</td>\n",
       "      <td>0.489129</td>\n",
       "      <td>0.790349</td>\n",
       "      <td>0.521970</td>\n",
       "      <td>9.217904</td>\n",
       "      <td>1.123802</td>\n",
       "      <td>1.197186</td>\n",
       "      <td>1.196868</td>\n",
       "      <td>1.169139</td>\n",
       "      <td>1.133187</td>\n",
       "      <td>...</td>\n",
       "      <td>6.934939e+04</td>\n",
       "      <td>64332.856134</td>\n",
       "      <td>60797.155770</td>\n",
       "      <td>59554.107537</td>\n",
       "      <td>16563.280354</td>\n",
       "      <td>2.304087e+04</td>\n",
       "      <td>17606.96147</td>\n",
       "      <td>15666.159744</td>\n",
       "      <td>15278.305679</td>\n",
       "      <td>17777.465775</td>\n",
       "    </tr>\n",
       "    <tr>\n",
       "      <th>min</th>\n",
       "      <td>10000.000000</td>\n",
       "      <td>1.000000</td>\n",
       "      <td>0.000000</td>\n",
       "      <td>0.000000</td>\n",
       "      <td>21.000000</td>\n",
       "      <td>-2.000000</td>\n",
       "      <td>-2.000000</td>\n",
       "      <td>-2.000000</td>\n",
       "      <td>-2.000000</td>\n",
       "      <td>-2.000000</td>\n",
       "      <td>...</td>\n",
       "      <td>-1.572640e+05</td>\n",
       "      <td>-170000.000000</td>\n",
       "      <td>-81334.000000</td>\n",
       "      <td>-339603.000000</td>\n",
       "      <td>0.000000</td>\n",
       "      <td>0.000000e+00</td>\n",
       "      <td>0.00000</td>\n",
       "      <td>0.000000</td>\n",
       "      <td>0.000000</td>\n",
       "      <td>0.000000</td>\n",
       "    </tr>\n",
       "    <tr>\n",
       "      <th>25%</th>\n",
       "      <td>50000.000000</td>\n",
       "      <td>1.000000</td>\n",
       "      <td>1.000000</td>\n",
       "      <td>1.000000</td>\n",
       "      <td>28.000000</td>\n",
       "      <td>-1.000000</td>\n",
       "      <td>-1.000000</td>\n",
       "      <td>-1.000000</td>\n",
       "      <td>-1.000000</td>\n",
       "      <td>-1.000000</td>\n",
       "      <td>...</td>\n",
       "      <td>2.666250e+03</td>\n",
       "      <td>2326.750000</td>\n",
       "      <td>1763.000000</td>\n",
       "      <td>1256.000000</td>\n",
       "      <td>1000.000000</td>\n",
       "      <td>8.330000e+02</td>\n",
       "      <td>390.00000</td>\n",
       "      <td>296.000000</td>\n",
       "      <td>252.500000</td>\n",
       "      <td>117.750000</td>\n",
       "    </tr>\n",
       "    <tr>\n",
       "      <th>50%</th>\n",
       "      <td>140000.000000</td>\n",
       "      <td>2.000000</td>\n",
       "      <td>2.000000</td>\n",
       "      <td>2.000000</td>\n",
       "      <td>34.000000</td>\n",
       "      <td>0.000000</td>\n",
       "      <td>0.000000</td>\n",
       "      <td>0.000000</td>\n",
       "      <td>0.000000</td>\n",
       "      <td>0.000000</td>\n",
       "      <td>...</td>\n",
       "      <td>2.008850e+04</td>\n",
       "      <td>19052.000000</td>\n",
       "      <td>18104.500000</td>\n",
       "      <td>17071.000000</td>\n",
       "      <td>2100.000000</td>\n",
       "      <td>2.009000e+03</td>\n",
       "      <td>1800.00000</td>\n",
       "      <td>1500.000000</td>\n",
       "      <td>1500.000000</td>\n",
       "      <td>1500.000000</td>\n",
       "    </tr>\n",
       "    <tr>\n",
       "      <th>75%</th>\n",
       "      <td>240000.000000</td>\n",
       "      <td>2.000000</td>\n",
       "      <td>2.000000</td>\n",
       "      <td>2.000000</td>\n",
       "      <td>41.000000</td>\n",
       "      <td>0.000000</td>\n",
       "      <td>0.000000</td>\n",
       "      <td>0.000000</td>\n",
       "      <td>0.000000</td>\n",
       "      <td>0.000000</td>\n",
       "      <td>...</td>\n",
       "      <td>6.016475e+04</td>\n",
       "      <td>54506.000000</td>\n",
       "      <td>50190.500000</td>\n",
       "      <td>49198.250000</td>\n",
       "      <td>5006.000000</td>\n",
       "      <td>5.000000e+03</td>\n",
       "      <td>4505.00000</td>\n",
       "      <td>4013.250000</td>\n",
       "      <td>4031.500000</td>\n",
       "      <td>4000.000000</td>\n",
       "    </tr>\n",
       "    <tr>\n",
       "      <th>max</th>\n",
       "      <td>1000000.000000</td>\n",
       "      <td>2.000000</td>\n",
       "      <td>6.000000</td>\n",
       "      <td>3.000000</td>\n",
       "      <td>79.000000</td>\n",
       "      <td>8.000000</td>\n",
       "      <td>8.000000</td>\n",
       "      <td>8.000000</td>\n",
       "      <td>8.000000</td>\n",
       "      <td>8.000000</td>\n",
       "      <td>...</td>\n",
       "      <td>1.664089e+06</td>\n",
       "      <td>891586.000000</td>\n",
       "      <td>927171.000000</td>\n",
       "      <td>961664.000000</td>\n",
       "      <td>873552.000000</td>\n",
       "      <td>1.684259e+06</td>\n",
       "      <td>896040.00000</td>\n",
       "      <td>621000.000000</td>\n",
       "      <td>426529.000000</td>\n",
       "      <td>528666.000000</td>\n",
       "    </tr>\n",
       "  </tbody>\n",
       "</table>\n",
       "<p>8 rows × 23 columns</p>\n",
       "</div>"
      ],
      "text/plain": [
       "                   0             1             2             3             4   \\\n",
       "count    30000.000000  30000.000000  30000.000000  30000.000000  30000.000000   \n",
       "mean    167484.322667      1.603733      1.853133      1.551867     35.485500   \n",
       "std     129747.661567      0.489129      0.790349      0.521970      9.217904   \n",
       "min      10000.000000      1.000000      0.000000      0.000000     21.000000   \n",
       "25%      50000.000000      1.000000      1.000000      1.000000     28.000000   \n",
       "50%     140000.000000      2.000000      2.000000      2.000000     34.000000   \n",
       "75%     240000.000000      2.000000      2.000000      2.000000     41.000000   \n",
       "max    1000000.000000      2.000000      6.000000      3.000000     79.000000   \n",
       "\n",
       "                 5             6             7             8             9   \\\n",
       "count  30000.000000  30000.000000  30000.000000  30000.000000  30000.000000   \n",
       "mean      -0.016700     -0.133767     -0.166200     -0.220667     -0.266200   \n",
       "std        1.123802      1.197186      1.196868      1.169139      1.133187   \n",
       "min       -2.000000     -2.000000     -2.000000     -2.000000     -2.000000   \n",
       "25%       -1.000000     -1.000000     -1.000000     -1.000000     -1.000000   \n",
       "50%        0.000000      0.000000      0.000000      0.000000      0.000000   \n",
       "75%        0.000000      0.000000      0.000000      0.000000      0.000000   \n",
       "max        8.000000      8.000000      8.000000      8.000000      8.000000   \n",
       "\n",
       "           ...                  13             14             15  \\\n",
       "count      ...        3.000000e+04   30000.000000   30000.000000   \n",
       "mean       ...        4.701315e+04   43262.948967   40311.400967   \n",
       "std        ...        6.934939e+04   64332.856134   60797.155770   \n",
       "min        ...       -1.572640e+05 -170000.000000  -81334.000000   \n",
       "25%        ...        2.666250e+03    2326.750000    1763.000000   \n",
       "50%        ...        2.008850e+04   19052.000000   18104.500000   \n",
       "75%        ...        6.016475e+04   54506.000000   50190.500000   \n",
       "max        ...        1.664089e+06  891586.000000  927171.000000   \n",
       "\n",
       "                  16             17            18            19  \\\n",
       "count   30000.000000   30000.000000  3.000000e+04   30000.00000   \n",
       "mean    38871.760400    5663.580500  5.921163e+03    5225.68150   \n",
       "std     59554.107537   16563.280354  2.304087e+04   17606.96147   \n",
       "min   -339603.000000       0.000000  0.000000e+00       0.00000   \n",
       "25%      1256.000000    1000.000000  8.330000e+02     390.00000   \n",
       "50%     17071.000000    2100.000000  2.009000e+03    1800.00000   \n",
       "75%     49198.250000    5006.000000  5.000000e+03    4505.00000   \n",
       "max    961664.000000  873552.000000  1.684259e+06  896040.00000   \n",
       "\n",
       "                  20             21             22  \n",
       "count   30000.000000   30000.000000   30000.000000  \n",
       "mean     4826.076867    4799.387633    5215.502567  \n",
       "std     15666.159744   15278.305679   17777.465775  \n",
       "min         0.000000       0.000000       0.000000  \n",
       "25%       296.000000     252.500000     117.750000  \n",
       "50%      1500.000000    1500.000000    1500.000000  \n",
       "75%      4013.250000    4031.500000    4000.000000  \n",
       "max    621000.000000  426529.000000  528666.000000  \n",
       "\n",
       "[8 rows x 23 columns]"
      ]
     },
     "execution_count": 6,
     "metadata": {},
     "output_type": "execute_result"
    }
   ],
   "source": [
    "import scipy.stats\n",
    "import pandas as pd\n",
    "pd.DataFrame(X).describe()\n",
    "pd.DataFrame(y).describe()"
   ]
  },
  {
   "cell_type": "code",
   "execution_count": 7,
   "metadata": {
    "slideshow": {
     "slide_type": "slide"
    }
   },
   "outputs": [
    {
     "data": {
      "image/png": "[encoded data removed]",
      "text/plain": [
       "<matplotlib.figure.Figure at 0x10dd0518>"
      ]
     },
     "metadata": {},
     "output_type": "display_data"
    }
   ],
   "source": [
    "# We should always start by plotting the distribution of our examples\n",
    "\n",
    "%matplotlib inline\n",
    "import matplotlib.pyplot as plt\n",
    "fig, ax = plt.subplots(1, 3)\n",
    "\n",
    "ax[0].hist(X[:, 0], bins=100)  # PLot given credit\n",
    "ax[1].hist(X[:, 1])           # Gender\n",
    "ax[2].hist(X[:, 2])           # Education\n",
    "plt.tight_layout()\n",
    "plt.show()"
   ]
  },
  {
   "cell_type": "code",
   "execution_count": 8,
   "metadata": {
    "slideshow": {
     "slide_type": "slide"
    }
   },
   "outputs": [
    {
     "data": {
      "image/png": "[encoded data removed]",
      "text/plain": [
       "<matplotlib.figure.Figure at 0x14853470>"
      ]
     },
     "metadata": {},
     "output_type": "display_data"
    }
   ],
   "source": [
    "# Some variables in our dataset have a temporal aspect, \n",
    "# that we can visualize for a few selected clients\n",
    "fig, ax = plt.subplots(1, 3)\n",
    "\n",
    "ax[0].plot(X[0:4, 5:10])  # PLot past payments status\n",
    "ax[0].grid()\n",
    "ax[1].plot(X[0:4, 11:16]) # Plot bill statements\n",
    "ax[1].grid()\n",
    "ax[2].plot(X[0:4, 17:23]) # Plot amount of previous payments\n",
    "ax[2].grid()\n",
    "plt.tight_layout()\n",
    "plt.show()"
   ]
  },
  {
   "cell_type": "markdown",
   "metadata": {
    "slideshow": {
     "slide_type": "slide"
    }
   },
   "source": [
    "A little bit of terminology:\n",
    "<ol>\n",
    "<li>The matrices (X, y) are called the <strong>dataset</strong> for our problem.</li>\n",
    "<li>One row of (X, y) is called an <strong>example</strong>.</li>\n",
    "<li>Each item in X is a <strong>feature</strong>: a single element characterizing an example.</li>\n",
    "<li>Each item in y is called a <strong>label</strong>, characterizing the class to which an example belongs to.</li>\n",
    "</ol>"
   ]
  },
  {
   "cell_type": "markdown",
   "metadata": {
    "slideshow": {
     "slide_type": "slide"
    }
   },
   "source": [
    "Our task: learn to categorize elements described by the same features, which <strong>we do not yet know</strong>!"
   ]
  },
  {
   "cell_type": "markdown",
   "metadata": {
    "slideshow": {
     "slide_type": "slide"
    }
   },
   "source": [
    "### sklearn interface\n",
    "<p>The interface of sklearn is composed of a few generic functions, working in the same way for all possible objects:</p>\n",
    "<ul>\n",
    "<li><strong>fit</strong>: adapt the object based on some training data.</li>\n",
    "<li><strong>transform</strong>: apply the trained object on new data (can also use <strong>predict</strong> for supervised models).</li>\n",
    "<li><strong>score</strong>: apply a predefined scoring function to evaluate the model.\n",
    "</ul>\n",
    "<p>Any parameter is provided in the constructor of the object, in most cases via name/value pairs. In this way, the interface of the base functions is extremely compact.</p>"
   ]
  },
  {
   "cell_type": "markdown",
   "metadata": {
    "slideshow": {
     "slide_type": "slide"
    }
   },
   "source": [
    "## Step 1 in preprocessing: missing values\n",
    "A common problem during preprocessing is handling missing values. A simple strategy is to replace them with the average (or median) over the corresponding column:"
   ]
  },
  {
   "cell_type": "code",
   "execution_count": 9,
   "metadata": {
    "slideshow": {
     "slide_type": "slide"
    }
   },
   "outputs": [
    {
     "name": "stdout",
     "output_type": "stream",
     "text": [
      "[1.40000e+05 2.00000e+00 2.00000e+00 2.00000e+00 3.40000e+01 0.00000e+00\n",
      " 0.00000e+00 0.00000e+00 0.00000e+00 0.00000e+00 0.00000e+00 2.23815e+04\n",
      " 2.12000e+04 2.00885e+04 1.90520e+04 1.81045e+04 1.70710e+04 2.10000e+03\n",
      " 2.00900e+03 1.80000e+03 1.50000e+03 1.50000e+03 1.50000e+03]\n"
     ]
    }
   ],
   "source": [
    "# We do this for \"NaN\"\n",
    "from sklearn import preprocessing\n",
    "inputer = preprocessing.Imputer(strategy=\"median\", verbose=2)\n",
    "X = inputer.fit_transform(X)\n",
    "print(inputer.statistics_)"
   ]
  },
  {
   "cell_type": "markdown",
   "metadata": {
    "slideshow": {
     "slide_type": "slide"
    }
   },
   "source": [
    "## Step 2 in preprocessing: categorical variables\n",
    "<p>Consider column 3 (marital status). The distance between \"married\" and \"single\" is 1, but the distance between \"others\" and \"single\" is 2!</p>\n",
    "<br />\n",
    "<div class=\"alert alert-warning\">\n",
    "<p>We are imposing a <em>metric space</em> on categorical data, which is generally confusing for learning algorithms.</p>\n",
    "</div>\n",
    "\n",
    "<p>Now consider the transformation single $= [1, 0, 0]$, married $ = [0, 1, 0]$ and others $ = [0, 0 ,1]$. Now all pairwise distances are either $0$ or $\\sqrt{2}$. This is called <strong>one-hot encoding</strong>."
   ]
  },
  {
   "cell_type": "code",
   "execution_count": 11,
   "metadata": {
    "slideshow": {
     "slide_type": "slide"
    }
   },
   "outputs": [
    {
     "data": {
      "text/html": [
       "<div>\n",
       "<style>\n",
       "    .dataframe thead tr:only-child th {\n",
       "        text-align: right;\n",
       "    }\n",
       "\n",
       "    .dataframe thead th {\n",
       "        text-align: left;\n",
       "    }\n",
       "\n",
       "    .dataframe tbody tr th {\n",
       "        vertical-align: top;\n",
       "    }\n",
       "</style>\n",
       "<table border=\"1\" class=\"dataframe\">\n",
       "  <thead>\n",
       "    <tr style=\"text-align: right;\">\n",
       "      <th></th>\n",
       "      <th>0</th>\n",
       "      <th>1</th>\n",
       "      <th>2</th>\n",
       "      <th>3</th>\n",
       "      <th>4</th>\n",
       "      <th>5</th>\n",
       "      <th>6</th>\n",
       "      <th>7</th>\n",
       "      <th>8</th>\n",
       "      <th>9</th>\n",
       "      <th>...</th>\n",
       "      <th>23</th>\n",
       "      <th>24</th>\n",
       "      <th>25</th>\n",
       "      <th>26</th>\n",
       "      <th>27</th>\n",
       "      <th>28</th>\n",
       "      <th>29</th>\n",
       "      <th>30</th>\n",
       "      <th>31</th>\n",
       "      <th>32</th>\n",
       "    </tr>\n",
       "  </thead>\n",
       "  <tbody>\n",
       "    <tr>\n",
       "      <th>count</th>\n",
       "      <td>30000.000000</td>\n",
       "      <td>30000.000000</td>\n",
       "      <td>30000.000000</td>\n",
       "      <td>30000.000000</td>\n",
       "      <td>30000.000000</td>\n",
       "      <td>30000.000000</td>\n",
       "      <td>30000.000000</td>\n",
       "      <td>30000.000000</td>\n",
       "      <td>30000.000000</td>\n",
       "      <td>30000.000000</td>\n",
       "      <td>...</td>\n",
       "      <td>3.000000e+04</td>\n",
       "      <td>30000.000000</td>\n",
       "      <td>30000.000000</td>\n",
       "      <td>30000.000000</td>\n",
       "      <td>30000.000000</td>\n",
       "      <td>3.000000e+04</td>\n",
       "      <td>30000.00000</td>\n",
       "      <td>30000.000000</td>\n",
       "      <td>30000.000000</td>\n",
       "      <td>30000.000000</td>\n",
       "    </tr>\n",
       "    <tr>\n",
       "      <th>mean</th>\n",
       "      <td>0.396267</td>\n",
       "      <td>0.603733</td>\n",
       "      <td>0.000467</td>\n",
       "      <td>0.352833</td>\n",
       "      <td>0.467667</td>\n",
       "      <td>0.163900</td>\n",
       "      <td>0.004100</td>\n",
       "      <td>0.009333</td>\n",
       "      <td>0.001700</td>\n",
       "      <td>0.001800</td>\n",
       "      <td>...</td>\n",
       "      <td>4.701315e+04</td>\n",
       "      <td>43262.948967</td>\n",
       "      <td>40311.400967</td>\n",
       "      <td>38871.760400</td>\n",
       "      <td>5663.580500</td>\n",
       "      <td>5.921163e+03</td>\n",
       "      <td>5225.68150</td>\n",
       "      <td>4826.076867</td>\n",
       "      <td>4799.387633</td>\n",
       "      <td>5215.502567</td>\n",
       "    </tr>\n",
       "    <tr>\n",
       "      <th>std</th>\n",
       "      <td>0.489129</td>\n",
       "      <td>0.489129</td>\n",
       "      <td>0.021598</td>\n",
       "      <td>0.477859</td>\n",
       "      <td>0.498962</td>\n",
       "      <td>0.370191</td>\n",
       "      <td>0.063901</td>\n",
       "      <td>0.096159</td>\n",
       "      <td>0.041197</td>\n",
       "      <td>0.042389</td>\n",
       "      <td>...</td>\n",
       "      <td>6.934939e+04</td>\n",
       "      <td>64332.856134</td>\n",
       "      <td>60797.155770</td>\n",
       "      <td>59554.107537</td>\n",
       "      <td>16563.280354</td>\n",
       "      <td>2.304087e+04</td>\n",
       "      <td>17606.96147</td>\n",
       "      <td>15666.159744</td>\n",
       "      <td>15278.305679</td>\n",
       "      <td>17777.465775</td>\n",
       "    </tr>\n",
       "    <tr>\n",
       "      <th>min</th>\n",
       "      <td>0.000000</td>\n",
       "      <td>0.000000</td>\n",
       "      <td>0.000000</td>\n",
       "      <td>0.000000</td>\n",
       "      <td>0.000000</td>\n",
       "      <td>0.000000</td>\n",
       "      <td>0.000000</td>\n",
       "      <td>0.000000</td>\n",
       "      <td>0.000000</td>\n",
       "      <td>0.000000</td>\n",
       "      <td>...</td>\n",
       "      <td>-1.572640e+05</td>\n",
       "      <td>-170000.000000</td>\n",
       "      <td>-81334.000000</td>\n",
       "      <td>-339603.000000</td>\n",
       "      <td>0.000000</td>\n",
       "      <td>0.000000e+00</td>\n",
       "      <td>0.00000</td>\n",
       "      <td>0.000000</td>\n",
       "      <td>0.000000</td>\n",
       "      <td>0.000000</td>\n",
       "    </tr>\n",
       "    <tr>\n",
       "      <th>25%</th>\n",
       "      <td>0.000000</td>\n",
       "      <td>0.000000</td>\n",
       "      <td>0.000000</td>\n",
       "      <td>0.000000</td>\n",
       "      <td>0.000000</td>\n",
       "      <td>0.000000</td>\n",
       "      <td>0.000000</td>\n",
       "      <td>0.000000</td>\n",
       "      <td>0.000000</td>\n",
       "      <td>0.000000</td>\n",
       "      <td>...</td>\n",
       "      <td>2.666250e+03</td>\n",
       "      <td>2326.750000</td>\n",
       "      <td>1763.000000</td>\n",
       "      <td>1256.000000</td>\n",
       "      <td>1000.000000</td>\n",
       "      <td>8.330000e+02</td>\n",
       "      <td>390.00000</td>\n",
       "      <td>296.000000</td>\n",
       "      <td>252.500000</td>\n",
       "      <td>117.750000</td>\n",
       "    </tr>\n",
       "    <tr>\n",
       "      <th>50%</th>\n",
       "      <td>0.000000</td>\n",
       "      <td>1.000000</td>\n",
       "      <td>0.000000</td>\n",
       "      <td>0.000000</td>\n",
       "      <td>0.000000</td>\n",
       "      <td>0.000000</td>\n",
       "      <td>0.000000</td>\n",
       "      <td>0.000000</td>\n",
       "      <td>0.000000</td>\n",
       "      <td>0.000000</td>\n",
       "      <td>...</td>\n",
       "      <td>2.008850e+04</td>\n",
       "      <td>19052.000000</td>\n",
       "      <td>18104.500000</td>\n",
       "      <td>17071.000000</td>\n",
       "      <td>2100.000000</td>\n",
       "      <td>2.009000e+03</td>\n",
       "      <td>1800.00000</td>\n",
       "      <td>1500.000000</td>\n",
       "      <td>1500.000000</td>\n",
       "      <td>1500.000000</td>\n",
       "    </tr>\n",
       "    <tr>\n",
       "      <th>75%</th>\n",
       "      <td>1.000000</td>\n",
       "      <td>1.000000</td>\n",
       "      <td>0.000000</td>\n",
       "      <td>1.000000</td>\n",
       "      <td>1.000000</td>\n",
       "      <td>0.000000</td>\n",
       "      <td>0.000000</td>\n",
       "      <td>0.000000</td>\n",
       "      <td>0.000000</td>\n",
       "      <td>0.000000</td>\n",
       "      <td>...</td>\n",
       "      <td>6.016475e+04</td>\n",
       "      <td>54506.000000</td>\n",
       "      <td>50190.500000</td>\n",
       "      <td>49198.250000</td>\n",
       "      <td>5006.000000</td>\n",
       "      <td>5.000000e+03</td>\n",
       "      <td>4505.00000</td>\n",
       "      <td>4013.250000</td>\n",
       "      <td>4031.500000</td>\n",
       "      <td>4000.000000</td>\n",
       "    </tr>\n",
       "    <tr>\n",
       "      <th>max</th>\n",
       "      <td>1.000000</td>\n",
       "      <td>1.000000</td>\n",
       "      <td>1.000000</td>\n",
       "      <td>1.000000</td>\n",
       "      <td>1.000000</td>\n",
       "      <td>1.000000</td>\n",
       "      <td>1.000000</td>\n",
       "      <td>1.000000</td>\n",
       "      <td>1.000000</td>\n",
       "      <td>1.000000</td>\n",
       "      <td>...</td>\n",
       "      <td>1.664089e+06</td>\n",
       "      <td>891586.000000</td>\n",
       "      <td>927171.000000</td>\n",
       "      <td>961664.000000</td>\n",
       "      <td>873552.000000</td>\n",
       "      <td>1.684259e+06</td>\n",
       "      <td>896040.00000</td>\n",
       "      <td>621000.000000</td>\n",
       "      <td>426529.000000</td>\n",
       "      <td>528666.000000</td>\n",
       "    </tr>\n",
       "  </tbody>\n",
       "</table>\n",
       "<p>8 rows × 33 columns</p>\n",
       "</div>"
      ],
      "text/plain": [
       "                 0             1             2             3             4   \\\n",
       "count  30000.000000  30000.000000  30000.000000  30000.000000  30000.000000   \n",
       "mean       0.396267      0.603733      0.000467      0.352833      0.467667   \n",
       "std        0.489129      0.489129      0.021598      0.477859      0.498962   \n",
       "min        0.000000      0.000000      0.000000      0.000000      0.000000   \n",
       "25%        0.000000      0.000000      0.000000      0.000000      0.000000   \n",
       "50%        0.000000      1.000000      0.000000      0.000000      0.000000   \n",
       "75%        1.000000      1.000000      0.000000      1.000000      1.000000   \n",
       "max        1.000000      1.000000      1.000000      1.000000      1.000000   \n",
       "\n",
       "                 5             6             7             8             9   \\\n",
       "count  30000.000000  30000.000000  30000.000000  30000.000000  30000.000000   \n",
       "mean       0.163900      0.004100      0.009333      0.001700      0.001800   \n",
       "std        0.370191      0.063901      0.096159      0.041197      0.042389   \n",
       "min        0.000000      0.000000      0.000000      0.000000      0.000000   \n",
       "25%        0.000000      0.000000      0.000000      0.000000      0.000000   \n",
       "50%        0.000000      0.000000      0.000000      0.000000      0.000000   \n",
       "75%        0.000000      0.000000      0.000000      0.000000      0.000000   \n",
       "max        1.000000      1.000000      1.000000      1.000000      1.000000   \n",
       "\n",
       "           ...                  23             24             25  \\\n",
       "count      ...        3.000000e+04   30000.000000   30000.000000   \n",
       "mean       ...        4.701315e+04   43262.948967   40311.400967   \n",
       "std        ...        6.934939e+04   64332.856134   60797.155770   \n",
       "min        ...       -1.572640e+05 -170000.000000  -81334.000000   \n",
       "25%        ...        2.666250e+03    2326.750000    1763.000000   \n",
       "50%        ...        2.008850e+04   19052.000000   18104.500000   \n",
       "75%        ...        6.016475e+04   54506.000000   50190.500000   \n",
       "max        ...        1.664089e+06  891586.000000  927171.000000   \n",
       "\n",
       "                  26             27            28            29  \\\n",
       "count   30000.000000   30000.000000  3.000000e+04   30000.00000   \n",
       "mean    38871.760400    5663.580500  5.921163e+03    5225.68150   \n",
       "std     59554.107537   16563.280354  2.304087e+04   17606.96147   \n",
       "min   -339603.000000       0.000000  0.000000e+00       0.00000   \n",
       "25%      1256.000000    1000.000000  8.330000e+02     390.00000   \n",
       "50%     17071.000000    2100.000000  2.009000e+03    1800.00000   \n",
       "75%     49198.250000    5006.000000  5.000000e+03    4505.00000   \n",
       "max    961664.000000  873552.000000  1.684259e+06  896040.00000   \n",
       "\n",
       "                  30             31             32  \n",
       "count   30000.000000   30000.000000   30000.000000  \n",
       "mean     4826.076867    4799.387633    5215.502567  \n",
       "std     15666.159744   15278.305679   17777.465775  \n",
       "min         0.000000       0.000000       0.000000  \n",
       "25%       296.000000     252.500000     117.750000  \n",
       "50%      1500.000000    1500.000000    1500.000000  \n",
       "75%      4013.250000    4031.500000    4000.000000  \n",
       "max    621000.000000  426529.000000  528666.000000  \n",
       "\n",
       "[8 rows x 33 columns]"
      ]
     },
     "execution_count": 11,
     "metadata": {},
     "output_type": "execute_result"
    }
   ],
   "source": [
    "from sklearn import preprocessing\n",
    "X_pre = preprocessing.OneHotEncoder(categorical_features = (1,2,3), sparse=False).fit_transform(X)\n",
    "pd.DataFrame(X_pre).describe()"
   ]
  },
  {
   "cell_type": "markdown",
   "metadata": {
    "slideshow": {
     "slide_type": "slide"
    }
   },
   "source": [
    "<p>Our features have very different scales, e.g. [0,1] for the categorical features, and [0, 528666] for the last column (amount of previous payments in April 2005). Let us consider a prototypical male user with last column = 10000.</p>\n",
    "\n",
    "<ul>\n",
    "<li>Switching the sex from male to female: distance from old pattern is $\\sqrt{2}$.</li>\n",
    "<li>A $1\\%$ change in the last column: distance from old pattern is now $\\sqrt{500}$!</li>\n",
    "</ul>\n",
    "\n",
    "<p>The process of making all features similar is called <strong>feature normalization</strong>. Consider a generic value $X_{i,j}$ of the input matrix, and denote by $X_{\\text{min}}$ and $X_{\\text{max}}$ the minimum and maximum values computed over the corresponding column. Classical feature scaling in [0,1] is obtained as:</p>\n",
    "\n",
    "\\begin{equation}\n",
    "X_{i,j} = \\frac{X_{i,j} - X_{\\text{min}}}{X_{\\text{max}} - X_{\\text{min}}}\n",
    "\\end{equation}"
   ]
  },
  {
   "cell_type": "code",
   "execution_count": 12,
   "metadata": {
    "slideshow": {
     "slide_type": "slide"
    }
   },
   "outputs": [
    {
     "data": {
      "text/html": [
       "<div>\n",
       "<style>\n",
       "    .dataframe thead tr:only-child th {\n",
       "        text-align: right;\n",
       "    }\n",
       "\n",
       "    .dataframe thead th {\n",
       "        text-align: left;\n",
       "    }\n",
       "\n",
       "    .dataframe tbody tr th {\n",
       "        vertical-align: top;\n",
       "    }\n",
       "</style>\n",
       "<table border=\"1\" class=\"dataframe\">\n",
       "  <thead>\n",
       "    <tr style=\"text-align: right;\">\n",
       "      <th></th>\n",
       "      <th>0</th>\n",
       "      <th>1</th>\n",
       "      <th>2</th>\n",
       "      <th>3</th>\n",
       "      <th>4</th>\n",
       "      <th>5</th>\n",
       "      <th>6</th>\n",
       "      <th>7</th>\n",
       "      <th>8</th>\n",
       "      <th>9</th>\n",
       "      <th>...</th>\n",
       "      <th>23</th>\n",
       "      <th>24</th>\n",
       "      <th>25</th>\n",
       "      <th>26</th>\n",
       "      <th>27</th>\n",
       "      <th>28</th>\n",
       "      <th>29</th>\n",
       "      <th>30</th>\n",
       "      <th>31</th>\n",
       "      <th>32</th>\n",
       "    </tr>\n",
       "  </thead>\n",
       "  <tbody>\n",
       "    <tr>\n",
       "      <th>count</th>\n",
       "      <td>30000.000000</td>\n",
       "      <td>30000.000000</td>\n",
       "      <td>30000.000000</td>\n",
       "      <td>30000.000000</td>\n",
       "      <td>30000.000000</td>\n",
       "      <td>30000.000000</td>\n",
       "      <td>30000.000000</td>\n",
       "      <td>30000.000000</td>\n",
       "      <td>30000.000000</td>\n",
       "      <td>30000.000000</td>\n",
       "      <td>...</td>\n",
       "      <td>30000.000000</td>\n",
       "      <td>30000.000000</td>\n",
       "      <td>30000.000000</td>\n",
       "      <td>30000.000000</td>\n",
       "      <td>30000.000000</td>\n",
       "      <td>30000.000000</td>\n",
       "      <td>30000.000000</td>\n",
       "      <td>30000.000000</td>\n",
       "      <td>30000.000000</td>\n",
       "      <td>30000.000000</td>\n",
       "    </tr>\n",
       "    <tr>\n",
       "      <th>mean</th>\n",
       "      <td>0.396267</td>\n",
       "      <td>0.603733</td>\n",
       "      <td>0.000467</td>\n",
       "      <td>0.352833</td>\n",
       "      <td>0.467667</td>\n",
       "      <td>0.163900</td>\n",
       "      <td>0.004100</td>\n",
       "      <td>0.009333</td>\n",
       "      <td>0.001700</td>\n",
       "      <td>0.001800</td>\n",
       "      <td>...</td>\n",
       "      <td>0.112157</td>\n",
       "      <td>0.200891</td>\n",
       "      <td>0.120620</td>\n",
       "      <td>0.290851</td>\n",
       "      <td>0.006483</td>\n",
       "      <td>0.003516</td>\n",
       "      <td>0.005832</td>\n",
       "      <td>0.007771</td>\n",
       "      <td>0.011252</td>\n",
       "      <td>0.009865</td>\n",
       "    </tr>\n",
       "    <tr>\n",
       "      <th>std</th>\n",
       "      <td>0.489129</td>\n",
       "      <td>0.489129</td>\n",
       "      <td>0.021598</td>\n",
       "      <td>0.477859</td>\n",
       "      <td>0.498962</td>\n",
       "      <td>0.370191</td>\n",
       "      <td>0.063901</td>\n",
       "      <td>0.096159</td>\n",
       "      <td>0.041197</td>\n",
       "      <td>0.042389</td>\n",
       "      <td>...</td>\n",
       "      <td>0.038076</td>\n",
       "      <td>0.060601</td>\n",
       "      <td>0.060284</td>\n",
       "      <td>0.045766</td>\n",
       "      <td>0.018961</td>\n",
       "      <td>0.013680</td>\n",
       "      <td>0.019650</td>\n",
       "      <td>0.025227</td>\n",
       "      <td>0.035820</td>\n",
       "      <td>0.033627</td>\n",
       "    </tr>\n",
       "    <tr>\n",
       "      <th>min</th>\n",
       "      <td>0.000000</td>\n",
       "      <td>0.000000</td>\n",
       "      <td>0.000000</td>\n",
       "      <td>0.000000</td>\n",
       "      <td>0.000000</td>\n",
       "      <td>0.000000</td>\n",
       "      <td>0.000000</td>\n",
       "      <td>0.000000</td>\n",
       "      <td>0.000000</td>\n",
       "      <td>0.000000</td>\n",
       "      <td>...</td>\n",
       "      <td>0.000000</td>\n",
       "      <td>0.000000</td>\n",
       "      <td>0.000000</td>\n",
       "      <td>0.000000</td>\n",
       "      <td>0.000000</td>\n",
       "      <td>0.000000</td>\n",
       "      <td>0.000000</td>\n",
       "      <td>0.000000</td>\n",
       "      <td>0.000000</td>\n",
       "      <td>0.000000</td>\n",
       "    </tr>\n",
       "    <tr>\n",
       "      <th>25%</th>\n",
       "      <td>0.000000</td>\n",
       "      <td>0.000000</td>\n",
       "      <td>0.000000</td>\n",
       "      <td>0.000000</td>\n",
       "      <td>0.000000</td>\n",
       "      <td>0.000000</td>\n",
       "      <td>0.000000</td>\n",
       "      <td>0.000000</td>\n",
       "      <td>0.000000</td>\n",
       "      <td>0.000000</td>\n",
       "      <td>...</td>\n",
       "      <td>0.087808</td>\n",
       "      <td>0.162330</td>\n",
       "      <td>0.082396</td>\n",
       "      <td>0.261944</td>\n",
       "      <td>0.001145</td>\n",
       "      <td>0.000495</td>\n",
       "      <td>0.000435</td>\n",
       "      <td>0.000477</td>\n",
       "      <td>0.000592</td>\n",
       "      <td>0.000223</td>\n",
       "    </tr>\n",
       "    <tr>\n",
       "      <th>50%</th>\n",
       "      <td>0.000000</td>\n",
       "      <td>1.000000</td>\n",
       "      <td>0.000000</td>\n",
       "      <td>0.000000</td>\n",
       "      <td>0.000000</td>\n",
       "      <td>0.000000</td>\n",
       "      <td>0.000000</td>\n",
       "      <td>0.000000</td>\n",
       "      <td>0.000000</td>\n",
       "      <td>0.000000</td>\n",
       "      <td>...</td>\n",
       "      <td>0.097374</td>\n",
       "      <td>0.178084</td>\n",
       "      <td>0.098600</td>\n",
       "      <td>0.274097</td>\n",
       "      <td>0.002404</td>\n",
       "      <td>0.001193</td>\n",
       "      <td>0.002009</td>\n",
       "      <td>0.002415</td>\n",
       "      <td>0.003517</td>\n",
       "      <td>0.002837</td>\n",
       "    </tr>\n",
       "    <tr>\n",
       "      <th>75%</th>\n",
       "      <td>1.000000</td>\n",
       "      <td>1.000000</td>\n",
       "      <td>0.000000</td>\n",
       "      <td>1.000000</td>\n",
       "      <td>1.000000</td>\n",
       "      <td>0.000000</td>\n",
       "      <td>0.000000</td>\n",
       "      <td>0.000000</td>\n",
       "      <td>0.000000</td>\n",
       "      <td>0.000000</td>\n",
       "      <td>...</td>\n",
       "      <td>0.119378</td>\n",
       "      <td>0.211482</td>\n",
       "      <td>0.130415</td>\n",
       "      <td>0.298787</td>\n",
       "      <td>0.005731</td>\n",
       "      <td>0.002969</td>\n",
       "      <td>0.005028</td>\n",
       "      <td>0.006463</td>\n",
       "      <td>0.009452</td>\n",
       "      <td>0.007566</td>\n",
       "    </tr>\n",
       "    <tr>\n",
       "      <th>max</th>\n",
       "      <td>1.000000</td>\n",
       "      <td>1.000000</td>\n",
       "      <td>1.000000</td>\n",
       "      <td>1.000000</td>\n",
       "      <td>1.000000</td>\n",
       "      <td>1.000000</td>\n",
       "      <td>1.000000</td>\n",
       "      <td>1.000000</td>\n",
       "      <td>1.000000</td>\n",
       "      <td>1.000000</td>\n",
       "      <td>...</td>\n",
       "      <td>1.000000</td>\n",
       "      <td>1.000000</td>\n",
       "      <td>1.000000</td>\n",
       "      <td>1.000000</td>\n",
       "      <td>1.000000</td>\n",
       "      <td>1.000000</td>\n",
       "      <td>1.000000</td>\n",
       "      <td>1.000000</td>\n",
       "      <td>1.000000</td>\n",
       "      <td>1.000000</td>\n",
       "    </tr>\n",
       "  </tbody>\n",
       "</table>\n",
       "<p>8 rows × 33 columns</p>\n",
       "</div>"
      ],
      "text/plain": [
       "                 0             1             2             3             4   \\\n",
       "count  30000.000000  30000.000000  30000.000000  30000.000000  30000.000000   \n",
       "mean       0.396267      0.603733      0.000467      0.352833      0.467667   \n",
       "std        0.489129      0.489129      0.021598      0.477859      0.498962   \n",
       "min        0.000000      0.000000      0.000000      0.000000      0.000000   \n",
       "25%        0.000000      0.000000      0.000000      0.000000      0.000000   \n",
       "50%        0.000000      1.000000      0.000000      0.000000      0.000000   \n",
       "75%        1.000000      1.000000      0.000000      1.000000      1.000000   \n",
       "max        1.000000      1.000000      1.000000      1.000000      1.000000   \n",
       "\n",
       "                 5             6             7             8             9   \\\n",
       "count  30000.000000  30000.000000  30000.000000  30000.000000  30000.000000   \n",
       "mean       0.163900      0.004100      0.009333      0.001700      0.001800   \n",
       "std        0.370191      0.063901      0.096159      0.041197      0.042389   \n",
       "min        0.000000      0.000000      0.000000      0.000000      0.000000   \n",
       "25%        0.000000      0.000000      0.000000      0.000000      0.000000   \n",
       "50%        0.000000      0.000000      0.000000      0.000000      0.000000   \n",
       "75%        0.000000      0.000000      0.000000      0.000000      0.000000   \n",
       "max        1.000000      1.000000      1.000000      1.000000      1.000000   \n",
       "\n",
       "           ...                 23            24            25            26  \\\n",
       "count      ...       30000.000000  30000.000000  30000.000000  30000.000000   \n",
       "mean       ...           0.112157      0.200891      0.120620      0.290851   \n",
       "std        ...           0.038076      0.060601      0.060284      0.045766   \n",
       "min        ...           0.000000      0.000000      0.000000      0.000000   \n",
       "25%        ...           0.087808      0.162330      0.082396      0.261944   \n",
       "50%        ...           0.097374      0.178084      0.098600      0.274097   \n",
       "75%        ...           0.119378      0.211482      0.130415      0.298787   \n",
       "max        ...           1.000000      1.000000      1.000000      1.000000   \n",
       "\n",
       "                 27            28            29            30            31  \\\n",
       "count  30000.000000  30000.000000  30000.000000  30000.000000  30000.000000   \n",
       "mean       0.006483      0.003516      0.005832      0.007771      0.011252   \n",
       "std        0.018961      0.013680      0.019650      0.025227      0.035820   \n",
       "min        0.000000      0.000000      0.000000      0.000000      0.000000   \n",
       "25%        0.001145      0.000495      0.000435      0.000477      0.000592   \n",
       "50%        0.002404      0.001193      0.002009      0.002415      0.003517   \n",
       "75%        0.005731      0.002969      0.005028      0.006463      0.009452   \n",
       "max        1.000000      1.000000      1.000000      1.000000      1.000000   \n",
       "\n",
       "                 32  \n",
       "count  30000.000000  \n",
       "mean       0.009865  \n",
       "std        0.033627  \n",
       "min        0.000000  \n",
       "25%        0.000223  \n",
       "50%        0.002837  \n",
       "75%        0.007566  \n",
       "max        1.000000  \n",
       "\n",
       "[8 rows x 33 columns]"
      ]
     },
     "execution_count": 12,
     "metadata": {},
     "output_type": "execute_result"
    }
   ],
   "source": [
    "import sklearn.preprocessing\n",
    "scaler = sklearn.preprocessing.MinMaxScaler()\n",
    "X_norm = scaler.fit_transform(X_pre)\n",
    "pd.DataFrame(X_norm).describe()"
   ]
  },
  {
   "cell_type": "markdown",
   "metadata": {
    "slideshow": {
     "slide_type": "slide"
    }
   },
   "source": [
    "Another way of normalizing is <strong>standard scaling</strong>. Given the estimated mean $\\mu$ and variance $\\sigma^2$ for a column we process the values as:\n",
    "\n",
    "\\begin{equation}\n",
    "X_{i,j} = \\frac{X_{i,j} - \\mu}{\\sigma^2}\n",
    "\\end{equation}"
   ]
  },
  {
   "cell_type": "markdown",
   "metadata": {
    "slideshow": {
     "slide_type": "slide"
    }
   },
   "source": [
    "<p>A third type of scaling implemented in scikit-learn is a robust scaling (mostly to outliers), where we substract the mean and scale according to a given range:</p>"
   ]
  },
  {
   "cell_type": "code",
   "execution_count": 13,
   "metadata": {},
   "outputs": [
    {
     "data": {
      "text/html": [
       "<div>\n",
       "<style>\n",
       "    .dataframe thead tr:only-child th {\n",
       "        text-align: right;\n",
       "    }\n",
       "\n",
       "    .dataframe thead th {\n",
       "        text-align: left;\n",
       "    }\n",
       "\n",
       "    .dataframe tbody tr th {\n",
       "        vertical-align: top;\n",
       "    }\n",
       "</style>\n",
       "<table border=\"1\" class=\"dataframe\">\n",
       "  <thead>\n",
       "    <tr style=\"text-align: right;\">\n",
       "      <th></th>\n",
       "      <th>0</th>\n",
       "      <th>1</th>\n",
       "      <th>2</th>\n",
       "      <th>3</th>\n",
       "      <th>4</th>\n",
       "      <th>5</th>\n",
       "      <th>6</th>\n",
       "      <th>7</th>\n",
       "      <th>8</th>\n",
       "      <th>9</th>\n",
       "      <th>...</th>\n",
       "      <th>23</th>\n",
       "      <th>24</th>\n",
       "      <th>25</th>\n",
       "      <th>26</th>\n",
       "      <th>27</th>\n",
       "      <th>28</th>\n",
       "      <th>29</th>\n",
       "      <th>30</th>\n",
       "      <th>31</th>\n",
       "      <th>32</th>\n",
       "    </tr>\n",
       "  </thead>\n",
       "  <tbody>\n",
       "    <tr>\n",
       "      <th>count</th>\n",
       "      <td>30000.000000</td>\n",
       "      <td>30000.000000</td>\n",
       "      <td>30000.000000</td>\n",
       "      <td>30000.000000</td>\n",
       "      <td>30000.000000</td>\n",
       "      <td>30000.000000</td>\n",
       "      <td>30000.000000</td>\n",
       "      <td>30000.000000</td>\n",
       "      <td>30000.000000</td>\n",
       "      <td>30000.000000</td>\n",
       "      <td>...</td>\n",
       "      <td>30000.000000</td>\n",
       "      <td>30000.000000</td>\n",
       "      <td>30000.000000</td>\n",
       "      <td>30000.000000</td>\n",
       "      <td>30000.000000</td>\n",
       "      <td>30000.000000</td>\n",
       "      <td>30000.000000</td>\n",
       "      <td>30000.000000</td>\n",
       "      <td>30000.000000</td>\n",
       "      <td>30000.000000</td>\n",
       "    </tr>\n",
       "    <tr>\n",
       "      <th>mean</th>\n",
       "      <td>0.396267</td>\n",
       "      <td>-0.396267</td>\n",
       "      <td>0.000467</td>\n",
       "      <td>0.352833</td>\n",
       "      <td>0.467667</td>\n",
       "      <td>0.163900</td>\n",
       "      <td>0.004100</td>\n",
       "      <td>0.009333</td>\n",
       "      <td>0.001700</td>\n",
       "      <td>0.001800</td>\n",
       "      <td>...</td>\n",
       "      <td>0.468267</td>\n",
       "      <td>0.463996</td>\n",
       "      <td>0.458560</td>\n",
       "      <td>0.454730</td>\n",
       "      <td>0.889561</td>\n",
       "      <td>0.938844</td>\n",
       "      <td>0.832486</td>\n",
       "      <td>0.894768</td>\n",
       "      <td>0.873085</td>\n",
       "      <td>0.957049</td>\n",
       "    </tr>\n",
       "    <tr>\n",
       "      <th>std</th>\n",
       "      <td>0.489129</td>\n",
       "      <td>0.489129</td>\n",
       "      <td>0.021598</td>\n",
       "      <td>0.477859</td>\n",
       "      <td>0.498962</td>\n",
       "      <td>0.370191</td>\n",
       "      <td>0.063901</td>\n",
       "      <td>0.096159</td>\n",
       "      <td>0.041197</td>\n",
       "      <td>0.042389</td>\n",
       "      <td>...</td>\n",
       "      <td>1.206108</td>\n",
       "      <td>1.232920</td>\n",
       "      <td>1.255426</td>\n",
       "      <td>1.242205</td>\n",
       "      <td>4.134618</td>\n",
       "      <td>5.529367</td>\n",
       "      <td>4.278727</td>\n",
       "      <td>4.214449</td>\n",
       "      <td>4.042949</td>\n",
       "      <td>4.579166</td>\n",
       "    </tr>\n",
       "    <tr>\n",
       "      <th>min</th>\n",
       "      <td>0.000000</td>\n",
       "      <td>-1.000000</td>\n",
       "      <td>0.000000</td>\n",
       "      <td>0.000000</td>\n",
       "      <td>0.000000</td>\n",
       "      <td>0.000000</td>\n",
       "      <td>0.000000</td>\n",
       "      <td>0.000000</td>\n",
       "      <td>0.000000</td>\n",
       "      <td>0.000000</td>\n",
       "      <td>...</td>\n",
       "      <td>-3.084472</td>\n",
       "      <td>-3.623126</td>\n",
       "      <td>-2.053348</td>\n",
       "      <td>-7.439659</td>\n",
       "      <td>-0.524214</td>\n",
       "      <td>-0.482121</td>\n",
       "      <td>-0.437424</td>\n",
       "      <td>-0.403524</td>\n",
       "      <td>-0.396930</td>\n",
       "      <td>-0.386374</td>\n",
       "    </tr>\n",
       "    <tr>\n",
       "      <th>25%</th>\n",
       "      <td>0.000000</td>\n",
       "      <td>-1.000000</td>\n",
       "      <td>0.000000</td>\n",
       "      <td>0.000000</td>\n",
       "      <td>0.000000</td>\n",
       "      <td>0.000000</td>\n",
       "      <td>0.000000</td>\n",
       "      <td>0.000000</td>\n",
       "      <td>0.000000</td>\n",
       "      <td>0.000000</td>\n",
       "      <td>...</td>\n",
       "      <td>-0.303004</td>\n",
       "      <td>-0.320535</td>\n",
       "      <td>-0.337443</td>\n",
       "      <td>-0.329876</td>\n",
       "      <td>-0.274588</td>\n",
       "      <td>-0.282217</td>\n",
       "      <td>-0.342649</td>\n",
       "      <td>-0.323895</td>\n",
       "      <td>-0.330114</td>\n",
       "      <td>-0.356044</td>\n",
       "    </tr>\n",
       "    <tr>\n",
       "      <th>50%</th>\n",
       "      <td>0.000000</td>\n",
       "      <td>0.000000</td>\n",
       "      <td>0.000000</td>\n",
       "      <td>0.000000</td>\n",
       "      <td>0.000000</td>\n",
       "      <td>0.000000</td>\n",
       "      <td>0.000000</td>\n",
       "      <td>0.000000</td>\n",
       "      <td>0.000000</td>\n",
       "      <td>0.000000</td>\n",
       "      <td>...</td>\n",
       "      <td>0.000000</td>\n",
       "      <td>0.000000</td>\n",
       "      <td>0.000000</td>\n",
       "      <td>0.000000</td>\n",
       "      <td>0.000000</td>\n",
       "      <td>0.000000</td>\n",
       "      <td>0.000000</td>\n",
       "      <td>0.000000</td>\n",
       "      <td>0.000000</td>\n",
       "      <td>0.000000</td>\n",
       "    </tr>\n",
       "    <tr>\n",
       "      <th>75%</th>\n",
       "      <td>1.000000</td>\n",
       "      <td>0.000000</td>\n",
       "      <td>0.000000</td>\n",
       "      <td>1.000000</td>\n",
       "      <td>1.000000</td>\n",
       "      <td>0.000000</td>\n",
       "      <td>0.000000</td>\n",
       "      <td>0.000000</td>\n",
       "      <td>0.000000</td>\n",
       "      <td>0.000000</td>\n",
       "      <td>...</td>\n",
       "      <td>0.696996</td>\n",
       "      <td>0.679465</td>\n",
       "      <td>0.662557</td>\n",
       "      <td>0.670124</td>\n",
       "      <td>0.725412</td>\n",
       "      <td>0.717783</td>\n",
       "      <td>0.657351</td>\n",
       "      <td>0.676105</td>\n",
       "      <td>0.669886</td>\n",
       "      <td>0.643956</td>\n",
       "    </tr>\n",
       "    <tr>\n",
       "      <th>max</th>\n",
       "      <td>1.000000</td>\n",
       "      <td>0.000000</td>\n",
       "      <td>1.000000</td>\n",
       "      <td>1.000000</td>\n",
       "      <td>1.000000</td>\n",
       "      <td>1.000000</td>\n",
       "      <td>1.000000</td>\n",
       "      <td>1.000000</td>\n",
       "      <td>1.000000</td>\n",
       "      <td>1.000000</td>\n",
       "      <td>...</td>\n",
       "      <td>28.592059</td>\n",
       "      <td>16.721858</td>\n",
       "      <td>18.771700</td>\n",
       "      <td>19.702726</td>\n",
       "      <td>217.536695</td>\n",
       "      <td>403.707703</td>\n",
       "      <td>217.312272</td>\n",
       "      <td>166.655458</td>\n",
       "      <td>112.471289</td>\n",
       "      <td>135.788782</td>\n",
       "    </tr>\n",
       "  </tbody>\n",
       "</table>\n",
       "<p>8 rows × 33 columns</p>\n",
       "</div>"
      ],
      "text/plain": [
       "                 0             1             2             3             4   \\\n",
       "count  30000.000000  30000.000000  30000.000000  30000.000000  30000.000000   \n",
       "mean       0.396267     -0.396267      0.000467      0.352833      0.467667   \n",
       "std        0.489129      0.489129      0.021598      0.477859      0.498962   \n",
       "min        0.000000     -1.000000      0.000000      0.000000      0.000000   \n",
       "25%        0.000000     -1.000000      0.000000      0.000000      0.000000   \n",
       "50%        0.000000      0.000000      0.000000      0.000000      0.000000   \n",
       "75%        1.000000      0.000000      0.000000      1.000000      1.000000   \n",
       "max        1.000000      0.000000      1.000000      1.000000      1.000000   \n",
       "\n",
       "                 5             6             7             8             9   \\\n",
       "count  30000.000000  30000.000000  30000.000000  30000.000000  30000.000000   \n",
       "mean       0.163900      0.004100      0.009333      0.001700      0.001800   \n",
       "std        0.370191      0.063901      0.096159      0.041197      0.042389   \n",
       "min        0.000000      0.000000      0.000000      0.000000      0.000000   \n",
       "25%        0.000000      0.000000      0.000000      0.000000      0.000000   \n",
       "50%        0.000000      0.000000      0.000000      0.000000      0.000000   \n",
       "75%        0.000000      0.000000      0.000000      0.000000      0.000000   \n",
       "max        1.000000      1.000000      1.000000      1.000000      1.000000   \n",
       "\n",
       "           ...                 23            24            25            26  \\\n",
       "count      ...       30000.000000  30000.000000  30000.000000  30000.000000   \n",
       "mean       ...           0.468267      0.463996      0.458560      0.454730   \n",
       "std        ...           1.206108      1.232920      1.255426      1.242205   \n",
       "min        ...          -3.084472     -3.623126     -2.053348     -7.439659   \n",
       "25%        ...          -0.303004     -0.320535     -0.337443     -0.329876   \n",
       "50%        ...           0.000000      0.000000      0.000000      0.000000   \n",
       "75%        ...           0.696996      0.679465      0.662557      0.670124   \n",
       "max        ...          28.592059     16.721858     18.771700     19.702726   \n",
       "\n",
       "                 27            28            29            30            31  \\\n",
       "count  30000.000000  30000.000000  30000.000000  30000.000000  30000.000000   \n",
       "mean       0.889561      0.938844      0.832486      0.894768      0.873085   \n",
       "std        4.134618      5.529367      4.278727      4.214449      4.042949   \n",
       "min       -0.524214     -0.482121     -0.437424     -0.403524     -0.396930   \n",
       "25%       -0.274588     -0.282217     -0.342649     -0.323895     -0.330114   \n",
       "50%        0.000000      0.000000      0.000000      0.000000      0.000000   \n",
       "75%        0.725412      0.717783      0.657351      0.676105      0.669886   \n",
       "max      217.536695    403.707703    217.312272    166.655458    112.471289   \n",
       "\n",
       "                 32  \n",
       "count  30000.000000  \n",
       "mean       0.957049  \n",
       "std        4.579166  \n",
       "min       -0.386374  \n",
       "25%       -0.356044  \n",
       "50%        0.000000  \n",
       "75%        0.643956  \n",
       "max      135.788782  \n",
       "\n",
       "[8 rows x 33 columns]"
      ]
     },
     "execution_count": 13,
     "metadata": {},
     "output_type": "execute_result"
    }
   ],
   "source": [
    "import sklearn.preprocessing\n",
    "scaler = sklearn.preprocessing.RobustScaler() # Default to the interquantile range\n",
    "#scaler = sklearn.preprocessing.RobustScaler(quantile_range=(0.01, 0.99)) # Select a custom range\n",
    "X_norm = scaler.fit_transform(X_pre) \n",
    "# X_norm = scaler.\n",
    "pd.DataFrame(X_norm).describe()"
   ]
  },
  {
   "cell_type": "markdown",
   "metadata": {
    "slideshow": {
     "slide_type": "slide"
    }
   },
   "source": [
    "## Step 2 - Model training and fine-tuning"
   ]
  },
  {
   "cell_type": "markdown",
   "metadata": {
    "slideshow": {
     "slide_type": "slide"
    }
   },
   "source": [
    "Consider a model that predicts the true class for the elements in the training set, 0 otherwise. This has excellent <strong>training performance</strong>, but it doesn't <strong>generalize</strong>.\n",
    "\n",
    "This is called <strong>overfitting</strong>."
   ]
  },
  {
   "cell_type": "markdown",
   "metadata": {
    "slideshow": {
     "slide_type": "slide"
    }
   },
   "source": [
    "In order to detect overfitting, we can keep a small percentage of the data for test purposes (<strong>holdout</strong> method):"
   ]
  },
  {
   "cell_type": "code",
   "execution_count": 14,
   "metadata": {},
   "outputs": [
    {
     "name": "stdout",
     "output_type": "stream",
     "text": [
      "We now have 22500 elements for training and 7500 for test.\n"
     ]
    }
   ],
   "source": [
    "from sklearn import model_selection\n",
    "X_norm = preprocessing.MinMaxScaler().fit_transform(X_pre)\n",
    "(X_trn, X_tst, y_trn, y_tst) = model_selection.train_test_split(X_norm, y, test_size=0.25)\n",
    "print('We now have', \n",
    "      X_trn.shape[0], 'elements for training and', X_tst.shape[0], 'for test.')"
   ]
  },
  {
   "cell_type": "markdown",
   "metadata": {
    "slideshow": {
     "slide_type": "slide"
    }
   },
   "source": [
    "Let us look at the proportions of labels:"
   ]
  },
  {
   "cell_type": "code",
   "execution_count": 15,
   "metadata": {},
   "outputs": [
    {
     "name": "stdout",
     "output_type": "stream",
     "text": [
      "21.92 % / 22.720000000000002 %\n"
     ]
    }
   ],
   "source": [
    "print(np.mean(y_trn)*100, '% /', np.mean(y_tst)*100, '%')"
   ]
  },
  {
   "cell_type": "markdown",
   "metadata": {
    "slideshow": {
     "slide_type": "slide"
    }
   },
   "source": [
    "<p>The distribution is not perfectly equivalent between the two sets. We can do better with a <strong>stratified</strong> holdout:</p>"
   ]
  },
  {
   "cell_type": "code",
   "execution_count": 16,
   "metadata": {},
   "outputs": [
    {
     "name": "stdout",
     "output_type": "stream",
     "text": [
      "22.12 % / 22.12 %\n"
     ]
    }
   ],
   "source": [
    "from sklearn import model_selection\n",
    "(X_trn, X_tst, y_trn, y_tst) = model_selection.train_test_split(X_norm, y, test_size=0.25, stratify=y)\n",
    "print(np.mean(y_trn)*100, '% /', np.mean(y_tst)*100, '%')"
   ]
  },
  {
   "cell_type": "markdown",
   "metadata": {
    "slideshow": {
     "slide_type": "slide"
    }
   },
   "source": [
    "<p>We need a <strong>baseline</strong> accuracy to start our investigation. The <code>DummyClassifier</code> will output <em>constant</em> predictions with the most frequent item in the training set (note that we need to encode also the output using a one-hot-encoding for the method to work):</p>"
   ]
  },
  {
   "cell_type": "code",
   "execution_count": 17,
   "metadata": {},
   "outputs": [
    {
     "data": {
      "text/plain": [
       "0.7788"
      ]
     },
     "execution_count": 17,
     "metadata": {},
     "output_type": "execute_result"
    }
   ],
   "source": [
    "y_trn_dummy = preprocessing.OneHotEncoder(sparse=False).fit_transform(y_trn).astype(int)\n",
    "y_tst_dummy = preprocessing.OneHotEncoder(sparse=False).fit_transform(y_tst).astype(int)\n",
    "\n",
    "from sklearn import dummy\n",
    "d = dummy.DummyClassifier(strategy='most_frequent').fit(X_trn, y_trn_dummy)\n",
    "d.score(X_tst, y_tst_dummy) # Returns binary classification accuracy"
   ]
  },
  {
   "cell_type": "markdown",
   "metadata": {
    "slideshow": {
     "slide_type": "slide"
    }
   },
   "source": [
    "<div class=\"alert alert-success\">\n",
    "<p>An accuracy is always \"good\" compared to some alternative. Any model performing with an accuracy lower than $77.88\\%$ is basically useless in this scenario. At the same time, maybe even a $1\\%$ improvement is very significant here!</p>\n",
    "</div>"
   ]
  },
  {
   "cell_type": "markdown",
   "metadata": {
    "slideshow": {
     "slide_type": "slide"
    }
   },
   "source": [
    "<center><h2>How do we choose a proper classifier now?</h2></center>\n",
    "<center><img src=\"./Images/ml_map.png\"  /></center>"
   ]
  },
  {
   "cell_type": "markdown",
   "metadata": {
    "slideshow": {
     "slide_type": "slide"
    }
   },
   "source": [
    "## Logistic regression\n",
    "Let us start with the simplest one! A linear model is defined as:\n",
    "\n",
    "$$\n",
    "f(\\mathbf{x}) = \\mathbf{w}^T\\mathbf{x} + b\n",
    "$$\n",
    "\n",
    "The vector $\\mathbf{w}$ and scalar $b$ are called <strong>parameters</strong> of the model, and should be chosen based on the training data."
   ]
  },
  {
   "cell_type": "markdown",
   "metadata": {
    "slideshow": {
     "slide_type": "slide"
    }
   },
   "source": [
    "With a linear model, the output can be boundless, while we prefer to have a probability that the input belongs to a given class. We can achieve this using a nonlinear transformation:\n",
    "\n",
    "$$\n",
    "f(\\mathbf{x}) = \\frac{1}{1+\\exp\\left\\{-\\mathbf{w}^T\\mathbf{x}-b\\right\\}}\n",
    "$$\n",
    "\n",
    "The nonlinear transformation ensures that the output is a correct probability in [0,1]."
   ]
  },
  {
   "cell_type": "code",
   "execution_count": 22,
   "metadata": {
    "slideshow": {
     "slide_type": "slide"
    }
   },
   "outputs": [
    {
     "data": {
      "image/png": "[encoded data removed]",
      "text/plain": [
       "<matplotlib.figure.Figure at 0x14e05630>"
      ]
     },
     "metadata": {},
     "output_type": "display_data"
    }
   ],
   "source": [
    "import matplotlib.pyplot as plt\n",
    "x_range = np.arange(-5.0, 5.0, 0.01)\n",
    "plt.plot(x_range, 1/(1+np.exp(x_range)))\n",
    "plt.show()"
   ]
  },
  {
   "cell_type": "markdown",
   "metadata": {
    "slideshow": {
     "slide_type": "slide"
    }
   },
   "source": [
    "Finding the optimal parameters is done by minimizing some <strong>error</strong> (<strong>loss</strong>) on our dataset. In the case of logistic regression, it is cross-entropy:\n",
    "\n",
    "$$\n",
    "J(w, b) = - \\sum_{i=1}^N y_i \\log\\left\\{f(x_i)\\right\\} + (1-y_i)\\log\\left\\{1 - f(x_i)\\right\\}\n",
    "$$"
   ]
  },
  {
   "cell_type": "markdown",
   "metadata": {
    "slideshow": {
     "slide_type": "slide"
    }
   },
   "source": [
    "## Understanding cross-entropy\n",
    "<br /><br />\n",
    "<center><img src=\"./Images/CrossEntropyDef.png\"  /></center>\n",
    "\n",
    "http://colah.github.io/posts/2015-09-Visual-Information/"
   ]
  },
  {
   "cell_type": "code",
   "execution_count": 23,
   "metadata": {
    "collapsed": true,
    "slideshow": {
     "slide_type": "slide"
    }
   },
   "outputs": [],
   "source": [
    "from sklearn import linear_model\n",
    "logreg = linear_model.LogisticRegression()\n",
    "logreg.fit(X_trn, y_trn)\n",
    "print(logreg.score(X_tst, y_tst))"
   ]
  },
  {
   "cell_type": "code",
   "execution_count": 24,
   "metadata": {
    "collapsed": true,
    "slideshow": {
     "slide_type": "slide"
    }
   },
   "outputs": [],
   "source": [
    "# Play around with the regularization factor C!"
   ]
  },
  {
   "cell_type": "markdown",
   "metadata": {
    "slideshow": {
     "slide_type": "slide"
    }
   },
   "source": [
    "This <strong>regularization factor</strong> expresses a preference for solutions with small weights. It is another way to prevent overfitting.\n",
    "\n",
    "However, this parameter needs to be chosen by the user: in statistical terminology, it is called an <strong>hyper-parameter</strong>."
   ]
  },
  {
   "cell_type": "markdown",
   "metadata": {
    "slideshow": {
     "slide_type": "slide"
    }
   },
   "source": [
    "<p>How do we choose a proper regularization factor $C$? We can do the same as for testing:</p>\n",
    "\n",
    "<ol>\n",
    "<li>Split our training data in two, and use one part for training and one part for evaluating performance.</li>\n",
    "<li>Train and evaluate several models with different parameters.</li>\n",
    "<li>Select the parameter giving rise to the highest accuracy, retrain the final model with that parameter and the full training set.</li>\n",
    "</ol>\n",
    "\n",
    "<p>This is called <strong>grid search</strong>. A better way to evaluate the classifier is $k$-fold cross-validation (next), which can be used also for testing. We now have:</p>\n",
    "\n",
    "<ul>\n",
    "<li><strong>Training set</strong> used for training.</li>\n",
    "<li><strong>Validation set </strong> used for selecting <em>hyper-parameters</em> (like $C$).</li>\n",
    "<li><strong>Test set</strong> to evaluate the final performance.</li>\n",
    "</ul>"
   ]
  },
  {
   "cell_type": "markdown",
   "metadata": {
    "slideshow": {
     "slide_type": "slide"
    }
   },
   "source": [
    "<center><img src=\"./Images/07_cross_validation_diagram.png\" />\n",
    "<a href=\"http://blog.kaggle.com/2015/06/29/scikit-learn-video-7-optimizing-your-model-with-cross-validation/\">Image source</a></center>"
   ]
  },
  {
   "cell_type": "markdown",
   "metadata": {
    "slideshow": {
     "slide_type": "slide"
    }
   },
   "source": [
    "<center><img src=\"./Images/nested-k-fold.png\" />\n",
    "<a href=\"http://sebastianraschka.com/faq/docs/evaluate-a-model.html\">Image source</a></center>"
   ]
  },
  {
   "cell_type": "markdown",
   "metadata": {
    "slideshow": {
     "slide_type": "slide"
    }
   },
   "source": [
    "For parameters like $C$, it makes more sense to search them in an exponential range, like:\n",
    "\n",
    "$$\n",
    "2^{-10}, \\ldots, 2^{-9}, \\ldots, 2^{9}, 2^{10} \\,.\n",
    "$$\n",
    "\n",
    "<p>This is because a small change (e.g., $105$ instead of $100$) might not influence the result if we are not close to the optimal point, and a very fine-grained research is too time consuming.</p>\n",
    "\n",
    "Eventually, a second fine-tuning can be made around the optimal coefficient:\n",
    "<pre>Hsu, C.W., Chang, C.C. and Lin, C.J., 2003. A practical guide to support vector classification.</pre>"
   ]
  },
  {
   "cell_type": "code",
   "execution_count": null,
   "metadata": {
    "slideshow": {
     "slide_type": "slide"
    }
   },
   "outputs": [],
   "source": [
    "# Note that in logistic regression for sklearn, C is the inverse of the regularization strength.\n",
    "\n",
    "# The dictionary has the parameters we want to test, and their respective values\n",
    "d = {'C': 2.0**np.arange(-10, 10, 1)}\n",
    "\n",
    "# A grid-search is defined with a model and the dictionary of parameters\n",
    "logreg_cv = sklearn.model_selection.GridSearchCV(logreg, d, verbose=1) # Default is a 3-fold cross-validation\n",
    "\n",
    "# We can fit it equivalently to a standard model\n",
    "logreg_cv.fit(X_trn, y_trn)\n",
    "print('Accuracy: ', logreg_cv.score(X_tst, y_tst)*100, ' %.')"
   ]
  },
  {
   "cell_type": "code",
   "execution_count": null,
   "metadata": {
    "collapsed": true,
    "slideshow": {
     "slide_type": "slide"
    }
   },
   "outputs": [],
   "source": [
    "import matplotlib.pyplot as plt\n",
    "\n",
    "# Very small C: regularization is too large, all coefficients become 0\n",
    "# Very large C: the accuracy reaches a plateau, there appear to be no overfitting in this case\n",
    "\n",
    "plt.figure()\n",
    "plt.grid()\n",
    "plt.plot(d['C'], logreg_cv.cv_results_['mean_test_score'])\n",
    "plt.xlabel('C')\n",
    "plt.ylabel('Cross-validated accuracy')\n",
    "plt.xscale('log')"
   ]
  },
  {
   "cell_type": "code",
   "execution_count": null,
   "metadata": {
    "collapsed": true,
    "slideshow": {
     "slide_type": "slide"
    }
   },
   "outputs": [],
   "source": [
    "# We can also plot the resulting best parameter found by the grid-search procedure\n",
    "print(logreg_cv.best_params_)"
   ]
  },
  {
   "cell_type": "markdown",
   "metadata": {
    "slideshow": {
     "slide_type": "slide"
    }
   },
   "source": [
    "## Final bits of theory!"
   ]
  },
  {
   "cell_type": "markdown",
   "metadata": {
    "slideshow": {
     "slide_type": "slide"
    }
   },
   "source": [
    "How do you solve the optimization problem? The simplest idea is to use <strong>gradient descent</strong>, an iterative procedure:\n",
    "\n",
    "$$\n",
    "w = w - \\alpha \\nabla J(w)\n",
    "$$\n",
    "\n",
    "(sklearn solves the problem with a more advanced optimization technique, but GD is the basis for most optimization in more complex models, such as deep learning models)."
   ]
  },
  {
   "cell_type": "markdown",
   "metadata": {
    "slideshow": {
     "slide_type": "slide"
    }
   },
   "source": [
    "### Stochastic optimization\n",
    "\n",
    "For very big datasets, we cannot compute the gradient for the entire dataset. In this case, we can compute each step with a small sample of the entire training dataset.\n",
    "\n",
    "This is called <strong>stochastic</strong> gradient descent (SGD)."
   ]
  },
  {
   "cell_type": "code",
   "execution_count": null,
   "metadata": {
    "collapsed": true,
    "slideshow": {
     "slide_type": "slide"
    }
   },
   "outputs": [],
   "source": [
    "sgd = linear_model.SGDClassifier(loss='hinge', penalty='l2', n_iter=100)  # This is a linear SVM\n",
    "sgd.fit(X_trn, y_trn).score(X_tst, y_tst)"
   ]
  },
  {
   "cell_type": "code",
   "execution_count": null,
   "metadata": {
    "collapsed": true,
    "slideshow": {
     "slide_type": "slide"
    }
   },
   "outputs": [],
   "source": [
    "sgd = linear_model.SGDClassifier(loss='huber', penalty='l2', n_iter=100)  # Robust regression\n",
    "sgd.fit(X_trn, y_trn).score(X_tst, y_tst)"
   ]
  },
  {
   "cell_type": "markdown",
   "metadata": {
    "slideshow": {
     "slide_type": "slide"
    }
   },
   "source": [
    "## The steps up to now\n",
    "Let us summarize the main steps of a supervised learning workflow up to now:\n",
    "<ol>\n",
    "<li>Problem definition and data collection.</li>\n",
    "<li><strong>Data preprocessing</strong>: at least data normalization, one-hot-encoding when needed, and missing data removal / imputation. Later on, we will add feature selection, feature transformation, and column normalization.</li>\n",
    "<li><strong>Model selection</strong>: there are many families of classifiers, a brief overview is given next.</li>\n",
    "<li><strong>Data splitting, model training, and model fine-tuning</strong>.</li>\n",
    "<li><strong>Model evaluation</strong> (more later on), and final deploy.</li>\n",
    "</ol>"
   ]
  },
  {
   "cell_type": "markdown",
   "metadata": {
    "slideshow": {
     "slide_type": "slide"
    }
   },
   "source": [
    "## Choosing a classifier"
   ]
  },
  {
   "cell_type": "markdown",
   "metadata": {
    "slideshow": {
     "slide_type": "slide"
    }
   },
   "source": [
    "<p>In machine learning, there are hundreds of possible classifiers, organized in different \"families\" of methods, each with their own strengths and weaknesses in terms of several factors, e.g.:</p>\n",
    "\n",
    "<pre>Fernández-Delgado, M., Cernadas, E., Barro, S. and Amorim, D., 2014. Do we need hundreds of classifiers to solve real world classification problems?. J. Mach. Learn. Res, 15(1), pp. 3133-3181.</pre>\n",
    "\n",
    "<p>We will briefly review some of the most important implemented in scikit-learn. Remember that, in many cases, the actual bottleneck can be another, e.g. availability of data, feature extraction, and so on.</p>\n",
    "\n",
    "<div class=\"alert alert-success\">\n",
    "<a href=\"http://scikit-learn.org/stable/modules/classes.html\">Read more on each family in the user guides of scikit-learn!</a>"
   ]
  },
  {
   "cell_type": "markdown",
   "metadata": {
    "slideshow": {
     "slide_type": "slide"
    }
   },
   "source": [
    "## Choosing a model: the trade-offs\n",
    "<p>Accuracy is not the only element to consider when choosing the 'correct' classification model. Each algorithm provides a different trade-off along a multidimensional set of parameters, among which:</p>\n",
    "<ol>\n",
    "<li><strong>Complexity</strong>: some algorithms can model highly nonlinear functions, while others (e.g., linear) are much simpler.</li>\n",
    "<li><strong>Speed of learning</strong> and <strong>speed of classification</strong>.</li>\n",
    "<li><strong>Robustness</strong> to irrelevant attributes, missing values, noise.</li>\n",
    "<li><strong>Transparency</strong> of the decisions.</li>\n",
    "<li>...</li>\n",
    "</ol>"
   ]
  },
  {
   "cell_type": "markdown",
   "metadata": {
    "slideshow": {
     "slide_type": "slide"
    }
   },
   "source": [
    "<center><img src=\"./Images/Classifiers_comparison.png\"  /></center>\n",
    "<p>Taken from: Kotsiantis, S.B., 2007. <strong>Supervised machine learning: a review of classification techniques</strong>. <em>Informatica</em>, 31(3), pp.249-269.</p>"
   ]
  },
  {
   "cell_type": "markdown",
   "metadata": {
    "slideshow": {
     "slide_type": "slide"
    }
   },
   "source": [
    "### k-Nearest Neighbors\n",
    "<p>The KNN simply predicts a class according to the most similar items in the training set.</p>\n",
    "\n",
    "<font color=\"green\">Pros</font>\n",
    "<ol>\n",
    "<li>No training required.</li>\n",
    "<li>Can be re-implemented immediately.</li>\n",
    "<li>Highly nonlinear decision function.</li>\n",
    "</ol>\n",
    "\n",
    "<font color=\"red\">Cons</font>\n",
    "<ol>\n",
    "<li>Needs to store the entire training dataset.</li>\n",
    "<li>Performs poorly with many features, due to the curse of dimensionality.</li>\n",
    "</ol>"
   ]
  },
  {
   "cell_type": "markdown",
   "metadata": {
    "slideshow": {
     "slide_type": "slide"
    }
   },
   "source": [
    "<center><img src=\"./Images/KnnClassification.svg.png\" />\n",
    "<a href=\"https://commons.wikimedia.org/wiki/File:KnnClassification.svg \">Image source</a></center>"
   ]
  },
  {
   "cell_type": "markdown",
   "metadata": {
    "slideshow": {
     "slide_type": "slide"
    }
   },
   "source": [
    "<center><img src=\"./Images/Curse_of_dimensionality.png\" />"
   ]
  },
  {
   "cell_type": "code",
   "execution_count": 26,
   "metadata": {
    "slideshow": {
     "slide_type": "slide"
    }
   },
   "outputs": [
    {
     "name": "stderr",
     "output_type": "stream",
     "text": [
      "C:\\Users\\ISPAMM\\Anaconda3\\lib\\site-packages\\ipykernel_launcher.py:2: DataConversionWarning: A column-vector y was passed when a 1d array was expected. Please change the shape of y to (n_samples, ), for example using ravel().\n",
      "  \n"
     ]
    },
    {
     "name": "stdout",
     "output_type": "stream",
     "text": [
      "Accuracy:  79.17333333333333  %.\n"
     ]
    }
   ],
   "source": [
    "from sklearn import neighbors\n",
    "knn = neighbors.KNeighborsClassifier().fit(X_trn, y_trn)\n",
    "print('Accuracy: ', knn.score(X_tst, y_tst)*100, ' %.') # Most of the time is now spent in evaluating the classifier!"
   ]
  },
  {
   "cell_type": "markdown",
   "metadata": {
    "slideshow": {
     "slide_type": "slide"
    }
   },
   "source": [
    "### Support vector machine\n",
    "<strong>Support vector machines</strong> (SVMs) builds a linear classifier on a new space $\\phi(\\boldsymbol{x})$ defined <em>implicitly</em> by a kernel function:\n",
    "\n",
    "\\begin{equation}\n",
    "k(\\boldsymbol{x}_1, \\boldsymbol{x}_2) = \\phi(\\boldsymbol{x}_1)^T\\phi(\\boldsymbol{x}_2)\n",
    "\\end{equation}\n",
    "\n",
    "<font color=\"green\">Pros</font>\n",
    "<ol>\n",
    "<li>State-of-the-art accuracy for medium datasets.</li>\n",
    "<li>Provable convergence guarantees and many theoretical analyses.</li>\n",
    "<li>Can use kernels defined on many objects (e.g., graphs).</li>\n",
    "<li>Random approximations for use in large-scale datasets.</li>\n",
    "</ol>\n",
    "\n",
    "<font color=\"red\">Cons</font>\n",
    "<ol>\n",
    "<li>No immediate interpretation.</li>\n",
    "<li>For most non-linear kernels, we need to select additional hyper-parameters.</li>\n",
    "<li>Storage requirements linear (approximately) with the size of the training set.</li>\n",
    "</ol>"
   ]
  },
  {
   "cell_type": "code",
   "execution_count": 27,
   "metadata": {
    "slideshow": {
     "slide_type": "slide"
    }
   },
   "outputs": [
    {
     "name": "stderr",
     "output_type": "stream",
     "text": [
      "C:\\Users\\ISPAMM\\Anaconda3\\lib\\site-packages\\sklearn\\utils\\validation.py:547: DataConversionWarning: A column-vector y was passed when a 1d array was expected. Please change the shape of y to (n_samples, ), for example using ravel().\n",
      "  y = column_or_1d(y, warn=True)\n"
     ]
    },
    {
     "name": "stdout",
     "output_type": "stream",
     "text": [
      "Accuracy:  80.92  %.\n"
     ]
    }
   ],
   "source": [
    "import sklearn.svm\n",
    "svm = sklearn.svm.SVC(kernel='rbf', gamma=1)\n",
    "svm.fit(X_trn, y_trn)\n",
    "print('Accuracy: ', svm.score(X_tst, y_tst)*100, ' %.')"
   ]
  },
  {
   "cell_type": "markdown",
   "metadata": {
    "slideshow": {
     "slide_type": "slide"
    }
   },
   "source": [
    "### Decision Trees\n",
    "\n",
    "A decision tree represents the relation as a directed tree in which at every node we test the value of a feature for selecting the branch to follow.\n",
    "\n",
    "<font color=\"green\">Pro</font>\n",
    "<ol>\n",
    "<li>Can be interpreted by the user.</li>\n",
    "<li>Can associate an 'importance' to each feature.</li>\n",
    "</ol>\n",
    "\n",
    "<font color=\"red\">Cons</font>\n",
    "<ol>\n",
    "<li>Accuracy might not be optimal.</li>\n",
    "<li>The construction process is heavily heuristic.</li>\n",
    "<li>Lots of variance.</li>\n",
    "</ol>"
   ]
  },
  {
   "cell_type": "markdown",
   "metadata": {
    "slideshow": {
     "slide_type": "slide"
    }
   },
   "source": [
    "<center><img src=\"./Images/tvTree.jpg\" />\n",
    "<a href=\"http://www.sfs.uni-tuebingen.de/~vhenrich/ss12/java/homework/hw7/decisionTrees.html\">Image source</a></center>"
   ]
  },
  {
   "cell_type": "code",
   "execution_count": null,
   "metadata": {
    "collapsed": true,
    "slideshow": {
     "slide_type": "slide"
    }
   },
   "outputs": [],
   "source": [
    "import sklearn.tree\n",
    "dec_tree = sklearn.tree.DecisionTreeClassifier(max_depth=5, max_features=5)\n",
    "dec_tree.fit(X_trn, y_trn)\n",
    "print('Accuracy: ', dec_tree.score(X_tst, y_tst)*100, ' %.')"
   ]
  },
  {
   "cell_type": "code",
   "execution_count": null,
   "metadata": {
    "collapsed": true,
    "slideshow": {
     "slide_type": "slide"
    }
   },
   "outputs": [],
   "source": [
    "print(dec_tree.feature_importances_)"
   ]
  },
  {
   "cell_type": "markdown",
   "metadata": {
    "slideshow": {
     "slide_type": "slide"
    }
   },
   "source": [
    "### Neural Networks\n",
    "\n",
    "Neural networks can model highly nonlinear functions, and they are at the heart of \"deep learning\".\n",
    "\n",
    "<font color=\"green\">Pro</font>\n",
    "<ol>\n",
    "<li>For high-dimensional data (with enough examples), accuracies are state-of-the-art.</li>\n",
    "<li>Lot of hype recently, with many dedicated libraries.</li>\n",
    "</ol>\n",
    "\n",
    "<font color=\"red\">Cons</font>\n",
    "<ol>\n",
    "<li>Many hyper-parameters to tune for large networks.</li>\n",
    "<li>Nonconvex training problem with many minima and saddle points.</li>\n",
    "</ol>"
   ]
  },
  {
   "cell_type": "markdown",
   "metadata": {
    "slideshow": {
     "slide_type": "slide"
    }
   },
   "source": [
    "<center><img src=\"./Images/tikz11.png\" />\n",
    "<a href=\"http://neuralnetworksanddeeplearning.com/chap1.html\">Image source</a></center>"
   ]
  },
  {
   "cell_type": "code",
   "execution_count": 29,
   "metadata": {
    "slideshow": {
     "slide_type": "slide"
    }
   },
   "outputs": [
    {
     "name": "stderr",
     "output_type": "stream",
     "text": [
      "C:\\Users\\ISPAMM\\Anaconda3\\lib\\site-packages\\sklearn\\neural_network\\multilayer_perceptron.py:912: DataConversionWarning: A column-vector y was passed when a 1d array was expected. Please change the shape of y to (n_samples, ), for example using ravel().\n",
      "  y = column_or_1d(y, warn=True)\n"
     ]
    },
    {
     "name": "stdout",
     "output_type": "stream",
     "text": [
      "Accuracy:  81.09333333333333  %.\n"
     ]
    },
    {
     "data": {
      "text/plain": [
       "<matplotlib.text.Text at 0x15b6a358>"
      ]
     },
     "execution_count": 29,
     "metadata": {},
     "output_type": "execute_result"
    },
    {
     "data": {
      "image/png": "[encoded data removed]",
      "text/plain": [
       "<matplotlib.figure.Figure at 0x158ac3c8>"
      ]
     },
     "metadata": {},
     "output_type": "display_data"
    }
   ],
   "source": [
    "import sklearn.neural_network\n",
    "nnet = sklearn.neural_network.MLPClassifier(hidden_layer_sizes=(20), solver='adam', max_iter=500, batch_size=100)\n",
    "nnet.fit(X_trn, y_trn)\n",
    "print('Accuracy: ', nnet.score(X_tst, y_tst)*100, ' %.')\n",
    "plt.figure()\n",
    "plt.grid()\n",
    "plt.plot(nnet.loss_curve_)\n",
    "plt.xlabel('Epoch')\n",
    "plt.ylabel('Loss')"
   ]
  },
  {
   "cell_type": "markdown",
   "metadata": {
    "slideshow": {
     "slide_type": "slide"
    }
   },
   "source": [
    "## A curiosity: auto machine learning\n",
    "<p>Recently, there is interest in designing <strong>automatic systems</strong> for supervised learning. One example is the <a href=\"http://automl.org/\" target=\"_blank\">AutoML package</a>, which is a wrapper around scikit-learn.</p>\n",
    "\n",
    "<center><img src=\"./Images/AutoML_architecture.png\" />\n",
    "<p>An overview of the AutoML system taken from: Feurer, M., Klein, A., Eggensperger, K., Springenberg, J., Blum, M. and Hutter, F., 2015. <strong>Efficient and robust automated machine learning</strong>. In <em>Advances in Neural Information Processing Systems</em> (pp. 2962-2970).</p>"
   ]
  },
  {
   "cell_type": "code",
   "execution_count": null,
   "metadata": {
    "collapsed": true,
    "slideshow": {
     "slide_type": "slide"
    }
   },
   "outputs": [],
   "source": [
    "# Can only run on Ubuntu for now! :-(\n",
    "\n",
    "import autosklearn.classification\n",
    "\n",
    "automl = autosklearn.classification.AutoSklearnClassifier()\n",
    "automl.fit(X_trn, y_trn)\n",
    "y_hat = automl.predict(X_tst)\n",
    "\n",
    "print(\"Accuracy score\", sklearn.metrics.accuracy_score(y_tst, y_hat))"
   ]
  },
  {
   "cell_type": "markdown",
   "metadata": {
    "slideshow": {
     "slide_type": "slide"
    }
   },
   "source": [
    "## Unbalanced learning\n",
    "<p>The dataset we have been using has a strong imbalance between positive and negative examples. One way to correct this is to resample the dataset to obtain balanced classes. Another is to give more weight to the smaller class:</p>"
   ]
  },
  {
   "cell_type": "code",
   "execution_count": null,
   "metadata": {
    "collapsed": true
   },
   "outputs": [],
   "source": [
    "clf_weights = svm.LinearSVC(class_weight='balanced')\n",
    "clf_weights.fit(X_trn, y_trn, sample_weight=y_trn).score(X_tst, y_tst)"
   ]
  },
  {
   "cell_type": "markdown",
   "metadata": {
    "slideshow": {
     "slide_type": "slide"
    }
   },
   "source": [
    "There is an entire scikit-learn contributed module for unbalanced learning: [scikit-learn-contrib/imbalanced-learn](https://github.com/scikit-learn-contrib/imbalanced-learn)"
   ]
  },
  {
   "cell_type": "markdown",
   "metadata": {
    "slideshow": {
     "slide_type": "slide"
    }
   },
   "source": [
    "<p>In unbalanced learning, it is especially import to consider metrics more advanced than the simple average accuracy:</p>\n",
    "<ol>\n",
    "<li><strong>Precision</strong>: percentage of positive predictions which are correct.</li>\n",
    "<li><strong>Recall</strong>: percentage of positives correctly predicted by the algorithm.</li>\n",
    "<li><strong>F1-score</strong>: harmonic mean of the two.</li>\n",
    "</ol>"
   ]
  },
  {
   "cell_type": "code",
   "execution_count": null,
   "metadata": {
    "collapsed": true,
    "slideshow": {
     "slide_type": "slide"
    }
   },
   "outputs": [],
   "source": [
    "from sklearn import metrics\n",
    "print(metrics.classification_report(y_tst, logreg.predict(X_tst)))\n",
    "print('Confusion matrix:\\n-----------------\\n', metrics.confusion_matrix(y_tst, logreg.predict(X_tst)))"
   ]
  },
  {
   "cell_type": "markdown",
   "metadata": {
    "slideshow": {
     "slide_type": "slide"
    }
   },
   "source": [
    "Plotting precision and recall for different roundings of the classifier predictions gives us the precision-recall curve:"
   ]
  },
  {
   "cell_type": "code",
   "execution_count": null,
   "metadata": {
    "collapsed": true
   },
   "outputs": [],
   "source": [
    "precision, recall, _ = metrics.precision_recall_curve(y_tst, logreg.decision_function(X_tst))\n",
    "plt.plot(recall, precision, color='navy',\n",
    "         label='Precision-Recall curve')\n",
    "plt.xlabel('Recall')\n",
    "plt.ylabel('Precision')\n",
    "plt.ylim([0.0, 1.05])\n",
    "plt.xlim([0.0, 1.0])\n",
    "precision"
   ]
  },
  {
   "cell_type": "markdown",
   "metadata": {
    "slideshow": {
     "slide_type": "slide"
    }
   },
   "source": [
    "## Advanced profiling\n",
    "<p>When computational considerations are especially important, we can use an advanced profiler for our code, such as <a href=\"https://jiffyclub.github.io/snakeviz/\">SnakeViz</a>:</p>"
   ]
  },
  {
   "cell_type": "code",
   "execution_count": null,
   "metadata": {
    "collapsed": true
   },
   "outputs": [],
   "source": [
    "%load_ext snakeviz\n",
    "% snakeviz linear_model.RidgeClassifier().fit(X_trn, y_trn)"
   ]
  }
 ],
 "metadata": {
  "celltoolbar": "Slideshow",
  "kernelspec": {
   "display_name": "Python 3",
   "language": "python",
   "name": "python3"
  },
  "language_info": {
   "codemirror_mode": {
    "name": "ipython",
    "version": 3
   },
   "file_extension": ".py",
   "mimetype": "text/x-python",
   "name": "python",
   "nbconvert_exporter": "python",
   "pygments_lexer": "ipython3",
   "version": "3.6.4"
  }
 },
 "nbformat": 4,
 "nbformat_minor": 2
}
