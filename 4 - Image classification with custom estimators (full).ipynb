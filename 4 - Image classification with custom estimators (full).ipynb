{
 "cells": [
  {
   "cell_type": "markdown",
   "metadata": {
    "slideshow": {
     "slide_type": "slide"
    }
   },
   "source": [
    "# Deep Learning Fundamentals<br />\n",
    "<h2><p style=\"color:darkred\">4 - Image classification with custom estimators</p></h2>"
   ]
  },
  {
   "cell_type": "markdown",
   "metadata": {
    "slideshow": {
     "slide_type": "slide"
    }
   },
   "source": [
    "## Introduction"
   ]
  },
  {
   "cell_type": "markdown",
   "metadata": {
    "slideshow": {
     "slide_type": "slide"
    }
   },
   "source": [
    "Consider the application of supervised learning techniques to a problem of image classification:\n",
    "\n",
    "<ul>\n",
    "<li>An image is composed by millions of colored pixels = millions of features.</li>\n",
    "<li>Each feature brings very little content to the classifier.</li>\n",
    "</ul>\n",
    "\n",
    "This is why standard ML classifiers can only work with sophisticated high-level transformations of the image!"
   ]
  },
  {
   "cell_type": "markdown",
   "metadata": {
    "slideshow": {
     "slide_type": "slide"
    }
   },
   "source": [
    "<center><img src=\"./Images/overview_lipacts.png\"  /></center>"
   ]
  },
  {
   "cell_type": "markdown",
   "metadata": {
    "slideshow": {
     "slide_type": "slide"
    }
   },
   "source": [
    "### An inspiration from the brain: layers!\n",
    "\n",
    "<center><img src=\"./Images/vision_system.png\"  /></center>"
   ]
  },
  {
   "cell_type": "markdown",
   "metadata": {
    "slideshow": {
     "slide_type": "slide"
    }
   },
   "source": [
    "### Convolutional neural networks\n",
    "\n",
    "<center><img src=\"./Images/mylenet.png\"  /></center>\n",
    "\n",
    "http://cs231n.github.io/convolutional-networks/"
   ]
  },
  {
   "cell_type": "markdown",
   "metadata": {
    "slideshow": {
     "slide_type": "slide"
    }
   },
   "source": [
    "<center><img src=\"./Images/same_padding_no_strides.gif\"  /></center>"
   ]
  },
  {
   "cell_type": "markdown",
   "metadata": {
    "slideshow": {
     "slide_type": "slide"
    }
   },
   "source": [
    "Convolutional neural networks (and how to train them) are known since many years, but they have become viable only very recently!\n",
    "\n",
    "Main reasons:\n",
    "\n",
    "<ol>\n",
    "<li>Higher availability of data.</li>\n",
    "<li>Computational power given by easy-to-program GPUs.</li>\n",
    "<li>Compositional software frameworks.</li>\n",
    "</ol>"
   ]
  },
  {
   "cell_type": "markdown",
   "metadata": {
    "slideshow": {
     "slide_type": "slide"
    }
   },
   "source": [
    "<center><img src=\"./Images/main-qimg-3841c6dd04ae33398d5e6743f1072f69.png\"  /></center>"
   ]
  },
  {
   "cell_type": "markdown",
   "metadata": {
    "slideshow": {
     "slide_type": "slide"
    }
   },
   "source": [
    "<center><img src=\"./Images/CYHtC4WVAAEyGAL.png\"  /></center>"
   ]
  },
  {
   "cell_type": "markdown",
   "metadata": {
    "slideshow": {
     "slide_type": "slide"
    }
   },
   "source": [
    "<center><img src=\"./Images/Slide6.png\"  /></center>"
   ]
  },
  {
   "cell_type": "markdown",
   "metadata": {
    "slideshow": {
     "slide_type": "slide"
    }
   },
   "source": [
    "## Load data"
   ]
  },
  {
   "cell_type": "code",
   "execution_count": 1,
   "metadata": {
    "slideshow": {
     "slide_type": "slide"
    }
   },
   "outputs": [],
   "source": [
    "import tensorflow as tf"
   ]
  },
  {
   "cell_type": "code",
   "execution_count": 2,
   "metadata": {
    "slideshow": {
     "slide_type": "slide"
    }
   },
   "outputs": [],
   "source": [
    "from sklearn import datasets, preprocessing, model_selection\n",
    "data = datasets.load_digits()"
   ]
  },
  {
   "cell_type": "code",
   "execution_count": 3,
   "metadata": {
    "slideshow": {
     "slide_type": "slide"
    }
   },
   "outputs": [],
   "source": [
    "X = data['data']\n",
    "y = data['target']"
   ]
  },
  {
   "cell_type": "code",
   "execution_count": 5,
   "metadata": {
    "slideshow": {
     "slide_type": "slide"
    }
   },
   "outputs": [
    {
     "data": {
      "text/plain": [
       "<Figure size 640x480 with 1 Axes>"
      ]
     },
     "metadata": {},
     "output_type": "display_data"
    }
   ],
   "source": [
    "# PLot a sample\n",
    "import matplotlib.pyplot as plt\n",
    "plt.imshow(X[0].reshape(8,8), cmap='gray')\n",
    "plt.show()"
   ]
  },
  {
   "cell_type": "code",
   "execution_count": 6,
   "metadata": {
    "slideshow": {
     "slide_type": "slide"
    }
   },
   "outputs": [],
   "source": [
    "import numpy as np\n",
    "X = preprocessing.MinMaxScaler().fit_transform(X).astype(np.float32)"
   ]
  },
  {
   "cell_type": "code",
   "execution_count": 7,
   "metadata": {
    "slideshow": {
     "slide_type": "slide"
    }
   },
   "outputs": [],
   "source": [
    "X_train, X_test, y_train, y_test = model_selection.train_test_split(X, y, stratify=y)"
   ]
  },
  {
   "cell_type": "markdown",
   "metadata": {
    "slideshow": {
     "slide_type": "slide"
    }
   },
   "source": [
    "## Training input function (just like before)"
   ]
  },
  {
   "cell_type": "code",
   "execution_count": 8,
   "metadata": {
    "slideshow": {
     "slide_type": "slide"
    }
   },
   "outputs": [],
   "source": [
    "# Define the training input function\n",
    "def train_input_fcn(features, labels):\n",
    "    dataset = tf.data.Dataset.from_tensor_slices(({\"x\": features}, labels))\n",
    "    dataset = dataset.shuffle(1000).repeat().batch(32)\n",
    "    return dataset.make_one_shot_iterator().get_next()"
   ]
  },
  {
   "cell_type": "markdown",
   "metadata": {
    "slideshow": {
     "slide_type": "slide"
    }
   },
   "source": [
    "## Define the model"
   ]
  },
  {
   "cell_type": "code",
   "execution_count": 9,
   "metadata": {
    "slideshow": {
     "slide_type": "slide"
    }
   },
   "outputs": [],
   "source": [
    "def cnn_model_fcn(features, labels, mode):\n",
    "    \n",
    "    # Model definition\n",
    "    \n",
    "    input_layer = tf.reshape(features[\"x\"], [-1, 8, 8, 1])\n",
    "    \n",
    "    # Convolutive & pooling layers\n",
    "    conv1 = tf.layers.conv2d(inputs=input_layer, filters=32, kernel_size=[3,3], padding=\"same\", activation=tf.nn.relu)\n",
    "    conv2 = tf.layers.conv2d(inputs=conv1, filters=32, kernel_size=[3,3], padding=\"same\", activation=tf.nn.relu)\n",
    "    pool1 = tf.layers.max_pooling2d(inputs=conv2, pool_size=[2, 2], strides=2)\n",
    "    \n",
    "    # Final classification layer\n",
    "    pool1_flat = tf.reshape(pool1, [-1, 4 * 4 * 32])\n",
    "    dense = tf.layers.dense(inputs=pool1_flat, units=10)\n",
    "    logits = tf.layers.dense(inputs=dense, units=10)\n",
    "    \n",
    "    # Compute the predictions (for PREDICT and EVAL mode)\n",
    "    predictions = {\n",
    "      \"classes\": tf.argmax(input=logits, axis=1),\n",
    "      \"probabilities\": tf.nn.softmax(logits)\n",
    "    }\n",
    "    \n",
    "    if mode == tf.estimator.ModeKeys.PREDICT:\n",
    "        # EstimatorSpec is the object that the model function uses to communicate with the Estimator class\n",
    "        return tf.estimator.EstimatorSpec(mode=mode, predictions=predictions)\n",
    "    \n",
    "    # Calculate Loss (for both TRAIN and EVAL modes)\n",
    "    loss = tf.losses.sparse_softmax_cross_entropy(labels=labels, logits=logits)\n",
    "\n",
    "    if mode == tf.estimator.ModeKeys.TRAIN:\n",
    "        # Set up the optimization\n",
    "        optimizer = tf.train.AdamOptimizer()\n",
    "        train_op = optimizer.minimize(\n",
    "            loss=loss,\n",
    "            global_step=tf.train.get_global_step())\n",
    "        return tf.estimator.EstimatorSpec(mode=mode, loss=loss, train_op=train_op)\n",
    "\n",
    "    # Add evaluation metrics (for EVAL mode)\n",
    "    eval_metric_ops = {\n",
    "          \"accuracy\": tf.metrics.accuracy(\n",
    "              labels=labels, predictions=predictions[\"classes\"])}\n",
    "    return tf.estimator.EstimatorSpec(mode=mode, loss=loss, eval_metric_ops=eval_metric_ops)"
   ]
  },
  {
   "cell_type": "markdown",
   "metadata": {
    "slideshow": {
     "slide_type": "slide"
    }
   },
   "source": [
    "## Train the model"
   ]
  },
  {
   "cell_type": "code",
   "execution_count": 10,
   "metadata": {
    "slideshow": {
     "slide_type": "slide"
    }
   },
   "outputs": [
    {
     "name": "stdout",
     "output_type": "stream",
     "text": [
      "INFO:tensorflow:Using default config.\n",
      "INFO:tensorflow:Using config: {'_model_dir': 'tmp_digits_convnet_model', '_tf_random_seed': None, '_save_summary_steps': 100, '_save_checkpoints_steps': None, '_save_checkpoints_secs': 600, '_session_config': None, '_keep_checkpoint_max': 5, '_keep_checkpoint_every_n_hours': 10000, '_log_step_count_steps': 100, '_service': None, '_cluster_spec': <tensorflow.python.training.server_lib.ClusterSpec object at 0x1a2ad437b8>, '_task_type': 'worker', '_task_id': 0, '_global_id_in_cluster': 0, '_master': '', '_evaluation_master': '', '_is_chief': True, '_num_ps_replicas': 0, '_num_worker_replicas': 1}\n"
     ]
    }
   ],
   "source": [
    "# Create the Estimator\n",
    "classifier = tf.estimator.Estimator(\n",
    "    model_fn=cnn_model_fcn, model_dir=\"tmp_digits_convnet_model\")"
   ]
  },
  {
   "cell_type": "code",
   "execution_count": 11,
   "metadata": {
    "slideshow": {
     "slide_type": "slide"
    }
   },
   "outputs": [
    {
     "name": "stdout",
     "output_type": "stream",
     "text": [
      "INFO:tensorflow:Calling model_fn.\n",
      "INFO:tensorflow:Done calling model_fn.\n",
      "INFO:tensorflow:Create CheckpointSaverHook.\n",
      "INFO:tensorflow:Graph was finalized.\n",
      "INFO:tensorflow:Running local_init_op.\n",
      "INFO:tensorflow:Done running local_init_op.\n",
      "INFO:tensorflow:Saving checkpoints for 1 into tmp_digits_convnet_model/model.ckpt.\n",
      "INFO:tensorflow:loss = 2.2910864, step = 1\n",
      "INFO:tensorflow:global_step/sec: 98.3825\n",
      "INFO:tensorflow:loss = 0.48843643, step = 101 (1.017 sec)\n",
      "INFO:tensorflow:global_step/sec: 105.029\n",
      "INFO:tensorflow:loss = 0.29392892, step = 201 (0.952 sec)\n",
      "INFO:tensorflow:global_step/sec: 106.11\n",
      "INFO:tensorflow:loss = 0.024376974, step = 301 (0.943 sec)\n",
      "INFO:tensorflow:global_step/sec: 96.6693\n",
      "INFO:tensorflow:loss = 0.0839711, step = 401 (1.035 sec)\n",
      "INFO:tensorflow:global_step/sec: 94.0077\n",
      "INFO:tensorflow:loss = 0.03691262, step = 501 (1.064 sec)\n",
      "INFO:tensorflow:global_step/sec: 110.77\n",
      "INFO:tensorflow:loss = 0.011504129, step = 601 (0.902 sec)\n",
      "INFO:tensorflow:global_step/sec: 109.404\n",
      "INFO:tensorflow:loss = 0.018649995, step = 701 (0.917 sec)\n",
      "INFO:tensorflow:global_step/sec: 101.034\n",
      "INFO:tensorflow:loss = 0.013464408, step = 801 (0.990 sec)\n",
      "INFO:tensorflow:global_step/sec: 86.2087\n",
      "INFO:tensorflow:loss = 0.003422313, step = 901 (1.157 sec)\n",
      "INFO:tensorflow:Saving checkpoints for 1000 into tmp_digits_convnet_model/model.ckpt.\n",
      "INFO:tensorflow:Loss for final step: 0.0029567168.\n"
     ]
    },
    {
     "data": {
      "text/plain": [
       "<tensorflow.python.estimator.estimator.Estimator at 0x1a2ad43400>"
      ]
     },
     "execution_count": 11,
     "metadata": {},
     "output_type": "execute_result"
    }
   ],
   "source": [
    "classifier.train(input_fn=lambda:train_input_fcn(X_train, y_train), steps=1000)"
   ]
  },
  {
   "cell_type": "markdown",
   "metadata": {
    "slideshow": {
     "slide_type": "slide"
    }
   },
   "source": [
    "## Evaluate the model"
   ]
  },
  {
   "cell_type": "code",
   "execution_count": 12,
   "metadata": {
    "slideshow": {
     "slide_type": "slide"
    }
   },
   "outputs": [],
   "source": [
    "# Define input function\n",
    "def eval_input_fcn(features, labels):\n",
    "    dataset = tf.data.Dataset.from_tensor_slices(({\"x\": features}, labels))\n",
    "    dataset = dataset.batch(32) # Note the absence of \"repeat\"\n",
    "    return dataset.make_one_shot_iterator().get_next()"
   ]
  },
  {
   "cell_type": "code",
   "execution_count": 13,
   "metadata": {
    "slideshow": {
     "slide_type": "slide"
    }
   },
   "outputs": [
    {
     "name": "stdout",
     "output_type": "stream",
     "text": [
      "INFO:tensorflow:Calling model_fn.\n",
      "INFO:tensorflow:Done calling model_fn.\n",
      "INFO:tensorflow:Starting evaluation at 2018-05-01-16:12:26\n",
      "INFO:tensorflow:Graph was finalized.\n",
      "INFO:tensorflow:Restoring parameters from tmp_digits_convnet_model/model.ckpt-1000\n",
      "INFO:tensorflow:Running local_init_op.\n",
      "INFO:tensorflow:Done running local_init_op.\n",
      "INFO:tensorflow:Finished evaluation at 2018-05-01-16:12:27\n",
      "INFO:tensorflow:Saving dict for global step 1000: accuracy = 0.99333334, global_step = 1000, loss = 0.03369285\n",
      "{'accuracy': 0.99333334, 'loss': 0.03369285, 'global_step': 1000}\n"
     ]
    }
   ],
   "source": [
    "print(classifier.evaluate(input_fn=lambda:eval_input_fcn(X_test, y_test)))"
   ]
  },
  {
   "cell_type": "code",
   "execution_count": null,
   "metadata": {},
   "outputs": [],
   "source": []
  }
 ],
 "metadata": {
  "celltoolbar": "Slideshow",
  "kernelspec": {
   "display_name": "Python 3",
   "language": "python",
   "name": "python3"
  },
  "language_info": {
   "codemirror_mode": {
    "name": "ipython",
    "version": 3
   },
   "file_extension": ".py",
   "mimetype": "text/x-python",
   "name": "python",
   "nbconvert_exporter": "python",
   "pygments_lexer": "ipython3",
   "version": "3.6.5"
  }
 },
 "nbformat": 4,
 "nbformat_minor": 2
}
